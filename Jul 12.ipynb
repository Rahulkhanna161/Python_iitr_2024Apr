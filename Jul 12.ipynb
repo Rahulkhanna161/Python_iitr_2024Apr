{
 "cells": [
  {
   "cell_type": "code",
   "execution_count": 1,
   "metadata": {},
   "outputs": [
    {
     "data": {
      "text/plain": [
       "2567912189837875145"
      ]
     },
     "execution_count": 1,
     "metadata": {},
     "output_type": "execute_result"
    }
   ],
   "source": [
    "hash('sandeep')"
   ]
  },
  {
   "cell_type": "code",
   "execution_count": 5,
   "metadata": {},
   "outputs": [
    {
     "name": "stdout",
     "output_type": "stream",
     "text": [
      "5032453536364738404940503245353636473840493999384432404281344644\n"
     ]
    }
   ],
   "source": [
    "num = 0\n",
    "for c in \"sandeepgirisandeepgiri@gmail.com\":\n",
    "    num = num * 100 + (ord(c) - ord('A'))\n",
    "print(num)"
   ]
  },
  {
   "cell_type": "code",
   "execution_count": 6,
   "metadata": {},
   "outputs": [
    {
     "data": {
      "text/plain": [
       "int"
      ]
     },
     "execution_count": 6,
     "metadata": {},
     "output_type": "execute_result"
    }
   ],
   "source": [
    "type(num)"
   ]
  },
  {
   "cell_type": "code",
   "execution_count": 8,
   "metadata": {},
   "outputs": [
    {
     "data": {
      "text/plain": [
       "214"
      ]
     },
     "execution_count": 8,
     "metadata": {},
     "output_type": "execute_result"
    }
   ],
   "source": [
    "len(bin(num))"
   ]
  },
  {
   "cell_type": "code",
   "execution_count": 22,
   "metadata": {},
   "outputs": [],
   "source": [
    "def to_nums(filename, outfile):\n",
    "    runningcount = 1\n",
    "    mappings = {}\n",
    "    with open(filename) as file, open(outfile, \"w+\") as ofile:\n",
    "        for line in file:\n",
    "            (user_id_str, product_id, rating) = line.split(\",\")\n",
    "            if user_id_str not in mappings:\n",
    "                user_id = runningcount\n",
    "                mappings[user_id_str] = runningcount\n",
    "                runningcount += 1\n",
    "            else:\n",
    "                user_id = mappings[user_id_str]\n",
    "            ofile.write(\",\".join([str(user_id), product_id, rating]))\n",
    "    return mappings"
   ]
  },
  {
   "cell_type": "code",
   "execution_count": 27,
   "metadata": {},
   "outputs": [],
   "source": [
    "!rm input_nums_ids.txt"
   ]
  },
  {
   "cell_type": "code",
   "execution_count": 28,
   "metadata": {},
   "outputs": [],
   "source": [
    "mappings = to_nums(\"input_email.txt\", \"input_nums_ids.txt\")"
   ]
  },
  {
   "cell_type": "code",
   "execution_count": 29,
   "metadata": {
    "scrolled": true
   },
   "outputs": [
    {
     "name": "stdout",
     "output_type": "stream",
     "text": [
      "sandeep,1, 1.0\r\n",
      "nitin, 2, 3.0\r\n",
      "subodh, 2, 1.0\r\n",
      "sandeep, 2, 2.0\r\n",
      "nitin, 1, 2.0\r\n"
     ]
    }
   ],
   "source": [
    "!cat input_email.txt"
   ]
  },
  {
   "cell_type": "code",
   "execution_count": 30,
   "metadata": {},
   "outputs": [
    {
     "name": "stdout",
     "output_type": "stream",
     "text": [
      "1,1, 1.0\r\n",
      "2, 2, 3.0\r\n",
      "3, 2, 1.0\r\n",
      "1, 2, 2.0\r\n",
      "2, 1, 2.0\r\n"
     ]
    }
   ],
   "source": [
    "!cat input_nums_ids.txt"
   ]
  },
  {
   "cell_type": "code",
   "execution_count": 26,
   "metadata": {},
   "outputs": [
    {
     "data": {
      "text/plain": [
       "{'sandeep': 1, 'nitin': 2, 'subodh': 3}"
      ]
     },
     "execution_count": 26,
     "metadata": {},
     "output_type": "execute_result"
    }
   ],
   "source": [
    "mappings"
   ]
  },
  {
   "cell_type": "code",
   "execution_count": 31,
   "metadata": {},
   "outputs": [],
   "source": [
    "def reverse(d):\n",
    "    nd = {}\n",
    "    for k, v in d.items():\n",
    "        nd[v] = k\n",
    "    return nd"
   ]
  },
  {
   "cell_type": "code",
   "execution_count": 32,
   "metadata": {},
   "outputs": [],
   "source": [
    "rmappings = reverse(mappings)"
   ]
  },
  {
   "cell_type": "code",
   "execution_count": 33,
   "metadata": {},
   "outputs": [
    {
     "data": {
      "text/plain": [
       "{1: 'sandeep', 2: 'nitin', 3: 'subodh'}"
      ]
     },
     "execution_count": 33,
     "metadata": {},
     "output_type": "execute_result"
    }
   ],
   "source": [
    "rmappings"
   ]
  },
  {
   "cell_type": "code",
   "execution_count": 36,
   "metadata": {},
   "outputs": [],
   "source": [
    "def num2_str(infile, outfile, rmappings):\n",
    "    with open(infile) as file, open(outfile, \"w+\") as ofile:\n",
    "        for line in file:\n",
    "            (user_id, product_id, ratings) = line.split(\",\")\n",
    "            user_id_num = int(user_id)\n",
    "            user_id_str = rmappings[user_id_num]\n",
    "            ofile.write(\",\".join([user_id_str, product_id, ratings]))"
   ]
  },
  {
   "cell_type": "code",
   "execution_count": 37,
   "metadata": {},
   "outputs": [],
   "source": [
    "num2_str(\"input_nums_ids.txt\", \"recommendations.txt\", rmappings)"
   ]
  },
  {
   "cell_type": "code",
   "execution_count": 38,
   "metadata": {},
   "outputs": [
    {
     "name": "stdout",
     "output_type": "stream",
     "text": [
      "sandeep,1, 1.0\r\n",
      "nitin, 2, 3.0\r\n",
      "subodh, 2, 1.0\r\n",
      "sandeep, 2, 2.0\r\n",
      "nitin, 1, 2.0\r\n"
     ]
    }
   ],
   "source": [
    "!cat recommendations.txt"
   ]
  },
  {
   "cell_type": "code",
   "execution_count": 40,
   "metadata": {},
   "outputs": [
    {
     "name": "stdout",
     "output_type": "stream",
     "text": [
      "SORT(1)                          User Commands                         SORT(1)\r\n",
      "\r\n",
      "\r\n",
      "\r\n",
      "N\bNA\bAM\bME\bE\r\n",
      "       sort - sort lines of text files\r\n",
      "\r\n",
      "S\bSY\bYN\bNO\bOP\bPS\bSI\bIS\bS\r\n",
      "       s\bso\bor\brt\bt [_\bO_\bP_\bT_\bI_\bO_\bN]... [_\bF_\bI_\bL_\bE]...\r\n",
      "       s\bso\bor\brt\bt [_\bO_\bP_\bT_\bI_\bO_\bN]... _\b-_\b-_\bf_\bi_\bl_\be_\bs_\b0_\b-_\bf_\br_\bo_\bm_\b=_\bF\r\n",
      "\r\n",
      "D\bDE\bES\bSC\bCR\bRI\bIP\bPT\bTI\bIO\bON\bN\r\n",
      "       Write sorted concatenation of all FILE(s) to standard output.\r\n",
      "\r\n",
      "       Mandatory  arguments  to  long  options are mandatory for short options\r\n",
      "       too.  Ordering options:\r\n",
      "\r\n",
      "       -\b-b\bb, -\b--\b-i\big\bgn\bno\bor\bre\be-\b-l\ble\bea\bad\bdi\bin\bng\bg-\b-b\bbl\bla\ban\bnk\bks\bs\r\n",
      "              ignore leading blanks\r\n",
      "\r\n",
      "       -\b-d\bd, -\b--\b-d\bdi\bic\bct\bti\bio\bon\bna\bar\bry\by-\b-o\bor\brd\bde\ber\br\r\n",
      "              consider only blanks and alphanumeric characters\r\n",
      "\r\n",
      "       -\b-f\bf, -\b--\b-i\big\bgn\bno\bor\bre\be-\b-c\bca\bas\bse\be\r\n",
      "              fold lower case to upper case characters\r\n",
      "\r\n",
      "       -\b-g\bg, -\b--\b-g\bge\ben\bne\ber\bra\bal\bl-\b-n\bnu\bum\bme\ber\bri\bic\bc-\b-s\bso\bor\brt\bt\r\n",
      "              compare according to general numerical value\r\n",
      "\r\n",
      "       -\b-i\bi, -\b--\b-i\big\bgn\bno\bor\bre\be-\b-n\bno\bon\bnp\bpr\bri\bin\bnt\bti\bin\bng\bg\r\n",
      "              consider only printable characters\r\n",
      "\r\n",
      "       -\b-M\bM, -\b--\b-m\bmo\bon\bnt\bth\bh-\b-s\bso\bor\brt\bt\r\n",
      "              compare (unknown) < 'JAN' < ... < 'DEC'\r\n",
      "\r\n",
      "       -\b-h\bh, -\b--\b-h\bhu\bum\bma\ban\bn-\b-n\bnu\bum\bme\ber\bri\bic\bc-\b-s\bso\bor\brt\bt\r\n",
      "              compare human readable numbers (e.g., 2K 1G)\r\n",
      "\r\n",
      "       -\b-n\bn, -\b--\b-n\bnu\bum\bme\ber\bri\bic\bc-\b-s\bso\bor\brt\bt\r\n",
      "              compare according to string numerical value\r\n",
      "\r\n",
      "       -\b-R\bR, -\b--\b-r\bra\ban\bnd\bdo\bom\bm-\b-s\bso\bor\brt\bt\r\n",
      "              sort by random hash of keys\r\n",
      "\r\n",
      "       -\b--\b-r\bra\ban\bnd\bdo\bom\bm-\b-s\bso\bou\bur\brc\bce\be=_\bF_\bI_\bL_\bE\r\n",
      "              get random bytes from FILE\r\n",
      "\r\n",
      "       -\b-r\br, -\b--\b-r\bre\bev\bve\ber\brs\bse\be\r\n",
      "              reverse the result of comparisons\r\n",
      "\r\n",
      "       -\b--\b-s\bso\bor\brt\bt=_\bW_\bO_\bR_\bD\r\n",
      "              sort according to WORD: general-numeric  -\b-g\bg,  human-numeric  -\b-h\bh,\r\n",
      "              month -\b-M\bM, numeric -\b-n\bn, random -\b-R\bR, version -\b-V\bV\r\n",
      "\r\n",
      "       -\b-V\bV, -\b--\b-v\bve\ber\brs\bsi\bio\bon\bn-\b-s\bso\bor\brt\bt\r\n",
      "              natural sort of (version) numbers within text\r\n",
      "\r\n",
      "       Other options:\r\n",
      "\r\n",
      "       -\b--\b-b\bba\bat\btc\bch\bh-\b-s\bsi\biz\bze\be=_\bN_\bM_\bE_\bR_\bG_\bE\r\n",
      "              merge at most NMERGE inputs at once; for more use temp files\r\n",
      "\r\n",
      "       -\b-c\bc, -\b--\b-c\bch\bhe\bec\bck\bk, -\b--\b-c\bch\bhe\bec\bck\bk=_\bd_\bi_\ba_\bg_\bn_\bo_\bs_\be_\b-_\bf_\bi_\br_\bs_\bt\r\n",
      "              check for sorted input; do not sort\r\n",
      "\r\n",
      "       -\b-C\bC, -\b--\b-c\bch\bhe\bec\bck\bk=_\bq_\bu_\bi_\be_\bt, -\b--\b-c\bch\bhe\bec\bck\bk=_\bs_\bi_\bl_\be_\bn_\bt\r\n",
      "              like -\b-c\bc, but do not report first bad line\r\n",
      "\r\n",
      "       -\b--\b-c\bco\bom\bmp\bpr\bre\bes\bss\bs-\b-p\bpr\bro\bog\bgr\bra\bam\bm=_\bP_\bR_\bO_\bG\r\n",
      "              compress temporaries with PROG; decompress them with PROG -\b-d\bd\r\n",
      "\r\n",
      "       -\b--\b-d\bde\beb\bbu\bug\bg\r\n",
      "              annotate the part of the line used to sort, and warn about ques‐\r\n",
      "              tionable usage to stderr\r\n",
      "\r\n",
      "       -\b--\b-f\bfi\bil\ble\bes\bs0\b0-\b-f\bfr\bro\bom\bm=_\bF\r\n",
      "              read input from the files specified by NUL-terminated  names  in\r\n",
      "              file F; If F is - then read names from standard input\r\n",
      "\r\n",
      "       -\b-k\bk, -\b--\b-k\bke\bey\by=_\bK_\bE_\bY_\bD_\bE_\bF\r\n",
      "              sort via a key; KEYDEF gives location and type\r\n",
      "\r\n",
      "       -\b-m\bm, -\b--\b-m\bme\ber\brg\bge\be\r\n",
      "              merge already sorted files; do not sort\r\n",
      "\r\n",
      "       -\b-o\bo, -\b--\b-o\bou\but\btp\bpu\but\bt=_\bF_\bI_\bL_\bE\r\n",
      "              write result to FILE instead of standard output\r\n",
      "\r\n",
      "       -\b-s\bs, -\b--\b-s\bst\bta\bab\bbl\ble\be\r\n",
      "              stabilize sort by disabling last-resort comparison\r\n",
      "\r\n",
      "       -\b-S\bS, -\b--\b-b\bbu\buf\bff\bfe\ber\br-\b-s\bsi\biz\bze\be=_\bS_\bI_\bZ_\bE\r\n",
      "              use SIZE for main memory buffer\r\n",
      "\r\n",
      "       -\b-t\bt, -\b--\b-f\bfi\bie\bel\bld\bd-\b-s\bse\bep\bpa\bar\bra\bat\bto\bor\br=_\bS_\bE_\bP\r\n",
      "              use SEP instead of non-blank to blank transition\r\n",
      "\r\n",
      "       -\b-T\bT, -\b--\b-t\bte\bem\bmp\bpo\bor\bra\bar\bry\by-\b-d\bdi\bir\bre\bec\bct\bto\bor\bry\by=_\bD_\bI_\bR\r\n",
      "              use  DIR  for temporaries, not $TMPDIR or _\b/_\bt_\bm_\bp; multiple options\r\n",
      "              specify multiple directories\r\n",
      "\r\n",
      "       -\b--\b-p\bpa\bar\bra\bal\bll\ble\bel\bl=_\bN\r\n",
      "              change the number of sorts run concurrently to N\r\n",
      "\r\n",
      "       -\b-u\bu, -\b--\b-u\bun\bni\biq\bqu\bue\be\r\n",
      "              with -\b-c\bc, check for strict ordering; without -\b-c\bc, output only  the\r\n",
      "              first of an equal run\r\n",
      "\r\n",
      "       -\b-z\bz, -\b--\b-z\bze\ber\bro\bo-\b-t\bte\ber\brm\bmi\bin\bna\bat\bte\bed\bd\r\n",
      "              end lines with 0 byte, not newline\r\n",
      "\r\n",
      "       -\b--\b-h\bhe\bel\blp\bp display this help and exit\r\n",
      "\r\n",
      "       -\b--\b-v\bve\ber\brs\bsi\bio\bon\bn\r\n",
      "              output version information and exit\r\n",
      "\r\n",
      "       KEYDEF  is F[.C][OPTS][,F[.C][OPTS]] for start and stop position, where\r\n",
      "       F is a field number and C a character position in the field;  both  are\r\n",
      "       origin 1, and the stop position defaults to the line's end.  If neither\r\n",
      "       -\b-t\bt nor -\b-b\bb is in effect, characters in a  field  are  counted  from  the\r\n",
      "       beginning of the preceding whitespace.  OPTS is one or more single-let‐\r\n",
      "       ter ordering options  [bdfgiMhnRrV],  which  override  global  ordering\r\n",
      "       options  for  that key.  If no key is given, use the entire line as the\r\n",
      "       key.\r\n",
      "\r\n",
      "       SIZE may be followed by the following multiplicative suffixes: % 1%  of\r\n",
      "       memory, b 1, K 1024 (default), and so on for M, G, T, P, E, Z, Y.\r\n",
      "\r\n",
      "       With no FILE, or when FILE is -, read standard input.\r\n",
      "\r\n",
      "       ***  WARNING  ***  The locale specified by the environment affects sort\r\n",
      "       order.  Set LC_ALL=C to get the traditional sort order that uses native\r\n",
      "       byte values.\r\n",
      "\r\n",
      "       GNU  coreutils  online  help:  <http://www.gnu.org/software/coreutils/>\r\n",
      "       Report sort translation bugs to <http://translationproject.org/team/>\r\n",
      "\r\n",
      "A\bAU\bUT\bTH\bHO\bOR\bR\r\n",
      "       Written by Mike Haertel and Paul Eggert.\r\n",
      "\r\n",
      "C\bCO\bOP\bPY\bYR\bRI\bIG\bGH\bHT\bT\r\n",
      "       Copyright © 2013 Free Software Foundation, Inc.   License  GPLv3+:  GNU\r\n",
      "       GPL version 3 or later <http://gnu.org/licenses/gpl.html>.\r\n",
      "       This  is  free  software:  you  are free to change and redistribute it.\r\n",
      "       There is NO WARRANTY, to the extent permitted by law.\r\n",
      "\r\n",
      "S\bSE\bEE\bE A\bAL\bLS\bSO\bO\r\n",
      "       uniq(1)\r\n",
      "\r\n",
      "       The full documentation for s\bso\bor\brt\bt is maintained as a Texinfo manual.   If\r\n",
      "       the  i\bin\bnf\bfo\bo  and  s\bso\bor\brt\bt  programs are properly installed at your site, the\r\n",
      "       command\r\n",
      "\r\n",
      "              i\bin\bnf\bfo\bo c\bco\bor\bre\beu\but\bti\bil\bls\bs '\b's\bso\bor\brt\bt i\bin\bnv\bvo\boc\bca\bat\bti\bio\bon\bn'\b'\r\n",
      "\r\n",
      "       should give you access to the complete manual.\r\n",
      "\r\n",
      "\r\n",
      "\r\n",
      "GNU coreutils 8.22               November 2020                         SORT(1)\r\n"
     ]
    }
   ],
   "source": [
    "!man sort"
   ]
  },
  {
   "cell_type": "code",
   "execution_count": 42,
   "metadata": {},
   "outputs": [],
   "source": [
    "!sort input_email.txt > input_email_sorted.txt"
   ]
  },
  {
   "cell_type": "code",
   "execution_count": 43,
   "metadata": {},
   "outputs": [
    {
     "name": "stdout",
     "output_type": "stream",
     "text": [
      "nitin, 1, 2.0\r\n",
      "nitin, 2, 3.0\r\n",
      "sandeep,1, 1.0\r\n",
      "sandeep, 2, 2.0\r\n",
      "subodh, 2, 1.0\r\n"
     ]
    }
   ],
   "source": [
    "!cat input_email_sorted.txt"
   ]
  },
  {
   "cell_type": "markdown",
   "metadata": {},
   "source": [
    "1. Sort the input file by email id. Sorting can be done in parts using customizable memory.\n",
    "2. read line by line and the moment next str is different from previous, we save the mappings.txt 1 : nitin, 2:sandeep, 3:subodh\n",
    "3. Run the recommender\n",
    "4. sort the recommender's output by user_id call it sorted_recommendations.txt\n",
    "5. Open the sorted_recommendations and open the mappings.txt\n",
    "6. Give the results."
   ]
  },
  {
   "cell_type": "code",
   "execution_count": 47,
   "metadata": {},
   "outputs": [],
   "source": [
    "!sort input_nums_ids.txt > input_nums_ids_sorted.txt"
   ]
  },
  {
   "cell_type": "code",
   "execution_count": 48,
   "metadata": {},
   "outputs": [
    {
     "name": "stdout",
     "output_type": "stream",
     "text": [
      "1,1, 1.0\r\n",
      "1, 2, 2.0\r\n",
      "2, 1, 2.0\r\n",
      "2, 2, 3.0\r\n",
      "3, 2, 1.0\r\n"
     ]
    }
   ],
   "source": [
    "!cat input_nums_ids_sorted.txt"
   ]
  },
  {
   "cell_type": "code",
   "execution_count": 45,
   "metadata": {},
   "outputs": [
    {
     "data": {
      "text/plain": [
       "{1: 'sandeep', 2: 'nitin', 3: 'subodh'}"
      ]
     },
     "execution_count": 45,
     "metadata": {},
     "output_type": "execute_result"
    }
   ],
   "source": [
    "rmappings"
   ]
  },
  {
   "cell_type": "code",
   "execution_count": 51,
   "metadata": {},
   "outputs": [
    {
     "name": "stdout",
     "output_type": "stream",
     "text": [
      "2,3d1\r\n",
      "< 2, 2, 3.0\r\n",
      "< 3, 2, 1.0\r\n",
      "5a4,5\r\n",
      "> 2, 2, 3.0\r\n",
      "> 3, 2, 1.0\r\n"
     ]
    }
   ],
   "source": [
    "# https://www.geeksforgeeks.org/longest-common-subsequence-dp-4/\n",
    "!diff input_nums_ids.txt input_nums_ids_sorted.txt"
   ]
  },
  {
   "cell_type": "code",
   "execution_count": 57,
   "metadata": {},
   "outputs": [
    {
     "name": "stdout",
     "output_type": "stream",
     "text": [
      "Counts:  [0, 2, 3, 1, 1, 2, 1, 0, 0, 0, 0, 0, 0, 0, 0, 0, 0, 0, 0, 0, 0, 0, 0, 0, 0, 0, 0, 0, 0, 0, 0, 0, 0, 0, 0, 0, 0, 0, 0, 0, 0, 0, 0, 0, 0, 0, 0, 0, 0, 0, 0, 0, 0, 0, 0, 0, 0, 0, 0, 0, 0, 0, 0, 0, 0, 0, 0, 0, 0, 0, 0, 0, 0, 0, 0, 0, 0, 0, 0, 0, 0, 0, 0, 0, 0, 0, 0, 0, 0, 0, 0, 0, 0, 0, 0, 0, 0, 0, 0, 0, 0, 0, 0, 0, 0, 0, 0, 0, 0, 0, 0, 0, 0, 0, 0, 0, 0, 0, 0, 0, 0, 0, 0, 0, 0, 0, 0, 0, 0, 0, 0, 0, 0, 0, 0, 0, 0, 0, 0, 0, 0, 0, 0, 0, 0, 0, 0, 0, 0, 0, 0, 0, 0, 0, 0, 0, 0, 0, 0, 0, 0, 0, 0, 0, 0, 0, 0, 0, 0, 0, 0, 0, 0, 0, 0, 0, 0, 0, 0, 0, 0, 0, 0, 0, 0, 0, 0, 0, 0, 0, 0, 0, 0, 0, 0, 0, 0, 0, 0, 0]\n"
     ]
    },
    {
     "data": {
      "text/plain": [
       "[1, 1, 2, 2, 2, 3, 4, 5, 5, 6]"
      ]
     },
     "execution_count": 57,
     "metadata": {},
     "output_type": "execute_result"
    }
   ],
   "source": [
    "def inplace_sort(arr):\n",
    "    age_count_arr=[0]*200\n",
    "    i=0\n",
    "    for num in arr:\n",
    "        age_count_arr[num] += 1\n",
    "    res = []\n",
    "    print(\"Counts: \", age_count_arr)\n",
    "    # --\n",
    "    for i, count in enumerate(age_count_arr):\n",
    "        for _ in range(count):\n",
    "            res.append(i)\n",
    "    return res\n",
    "inplace_sort([1,2,2,3,4,5,6,1,2,5])"
   ]
  },
  {
   "cell_type": "code",
   "execution_count": 59,
   "metadata": {},
   "outputs": [],
   "source": [
    "# https://www.amazon.com/Programming-Pearls-2nd-Jon-Bentley/dp/0201657880"
   ]
  },
  {
   "cell_type": "code",
   "execution_count": null,
   "metadata": {},
   "outputs": [],
   "source": [
    "def quicksort(arr):\n",
    "    if len(arr)<=1:\n",
    "        return arr\n",
    "    else:\n",
    "        pivot = arr.pop()\n",
    "        left_arr =[]\n",
    "        right_arr =[]\n",
    "        for val in arr:\n",
    "            if val<pivot:\n",
    "                left_arr.append(val)\n",
    "            else: \n",
    "                right_arr.append(val)\n",
    "        return quicksort(left_arr)+[pivot]+quicksort(right_arr)\n",
    "quicksort([0,9,3,8,2,7,8])"
   ]
  },
  {
   "cell_type": "code",
   "execution_count": null,
   "metadata": {},
   "outputs": [],
   "source": [
    "def find_pivot(arr, initial_index, last_index):\n",
    "    pivot_index = initial_index-1\n",
    "    pivot_value = arr[last_index]\n",
    "    current_index= initial_index\n",
    "    while current_index < last_index:\n",
    "        if(arr[current_index] < pivot_value):  \n",
    "            pivot_index+=1\n",
    "            if(current_index - pivot_index) >=1:\n",
    "                swap(arr, current_index , pivot_index)    \n",
    "        current_index+=1\n",
    "    pivot_index+=1\n",
    "    swap(arr, current_index, pivot_index) \n",
    "    return pivot_index\n",
    "            \n",
    "def swap(arr, current_index, pivot_index):\n",
    "    temp = arr[current_index]\n",
    "    arr[current_index] = arr[pivot_index]\n",
    "    arr[pivot_index] = temp"
   ]
  }
 ],
 "metadata": {
  "kernelspec": {
   "display_name": "Python 3",
   "language": "python",
   "name": "python3"
  },
  "language_info": {
   "codemirror_mode": {
    "name": "ipython",
    "version": 3
   },
   "file_extension": ".py",
   "mimetype": "text/x-python",
   "name": "python",
   "nbconvert_exporter": "python",
   "pygments_lexer": "ipython3",
   "version": "3.6.8"
  },
  "toc": {
   "base_numbering": 1,
   "nav_menu": {},
   "number_sections": true,
   "sideBar": true,
   "skip_h1_title": false,
   "title_cell": "Table of Contents",
   "title_sidebar": "Contents",
   "toc_cell": false,
   "toc_position": {},
   "toc_section_display": true,
   "toc_window_display": false
  }
 },
 "nbformat": 4,
 "nbformat_minor": 2
}
