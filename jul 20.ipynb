{
 "cells": [
  {
   "cell_type": "code",
   "execution_count": null,
   "metadata": {},
   "outputs": [],
   "source": [
    "Big File:\n",
    "    - find all lines containing \"abc\"\n",
    "        - read line by line. then find a substring abc.\n",
    "    - Find all lines that a starting a and ending with .\n",
    "    - dir *.*\n",
    "    "
   ]
  },
  {
   "cell_type": "markdown",
   "metadata": {},
   "source": [
    "    ^        Matches the beginning of a line\n",
    "    $        Matches the end of the line\n",
    "    .        Matches any character\n",
    "    \\s       Matches whitespace\n",
    "    \\S       Matches any non-whitespace character\n",
    "    *        Repeats a character zero or more times\n",
    "    *?       Repeats a character zero or more times (non-greedy)\n",
    "    +        Repeats a character one or more times\n",
    "    +?       Repeats a character one or more times (non-greedy)\n",
    "    [aeiou]  Matches a single character in the listed set\n",
    "    [^XYZ]   Matches a single character not in the listed set\n",
    "    [a-z0-9] The set of characters can include a range\n",
    "    (        Indicates where string extraction is to start\n",
    "    )        Indicates where string extraction is to end\n"
   ]
  },
  {
   "cell_type": "markdown",
   "metadata": {},
   "source": [
    "^...$ -> lines with only three characters"
   ]
  },
  {
   "cell_type": "markdown",
   "metadata": {},
   "source": [
    "Q: Implement a simple pattern matcher that matches . with single character and * with any number (0 or more) of any character"
   ]
  },
  {
   "cell_type": "code",
   "execution_count": 3,
   "metadata": {},
   "outputs": [],
   "source": [
    "# def match(pat, text):\n",
    "#     returns True/ False\n",
    "\n",
    "# match(\"abc\", \"abc\") -> True\n",
    "# match(\"a..\", \"abc\") -> True\n",
    "    # match(\"..\", \"bc\")\n",
    "    # match(\".\", \"c\")\n",
    "\n",
    "# match(\"a..\", \"abcd\") -> False\n",
    "# Match(\"a*\", \"abcd\") -> T\n",
    "# Match(\"a*\", \"abcde\") -> T\n",
    "# Match(\"a*\", \"abcde\") -> T\n",
    "# Match(\"a*b.\", \"abc\") -> T\n",
    "# Match(\"a*b.\", \"abcd\") -> F"
   ]
  },
  {
   "cell_type": "code",
   "execution_count": 5,
   "metadata": {},
   "outputs": [],
   "source": [
    "# def match(pat, text):\n",
    "#     if both pat and text are empty return true.\n",
    "#     if pat is empty and text is not return false\n",
    "#     if first letter pat is not . or *:\n",
    "#         if it is matching with text's first character:\n",
    "#             match(pat[1:], text[1:])\n",
    "#         else:\n",
    "#             return False\n",
    "#     if first letter of pat .:\n",
    "#         return match(pat[1:], text[1:])\n",
    "#     if first letter of pat is *:\n",
    "#         try matching pat[1:] with text[1:], text[2:], text[3:]...\n",
    "#         if either one matches return true"
   ]
  },
  {
   "cell_type": "markdown",
   "metadata": {},
   "source": [
    "```\n",
    "abc\n",
    "abcd\n",
    "These are the character: * + . ? \\*\n",
    "\\\\\n",
    "\\\\\\\n",
    "\\\n",
    "xyz\n",
    "ritesh\n",
    "sandeep\n",
    "sanjeeev\n",
    "asd\n",
    "arc\n",
    "awk\n",
    "1234-4567-8909-1111\n",
    "1234 4567 8909 1111\n",
    "cc: 1234456789091111\n",
    "1234---    4567- -  -8909-- 1111\n",
    "credit card: 12344567 89091111 \n",
    "SANDEEP\n",
    "1.0\n",
    "0.1\n",
    "0.000\n",
    "1.456\n",
    "0000000000.000000000000000\n",
    "x\n",
    "axyzb1234b\n",
    "Escaping!!\n",
    "Date: 05-07-1980\n",
    "Date: 05/07/1980\n",
    "Date: 31/08/1980\n",
    "Date: 05/11/1980\n",
    "Date: 05/12/1980\n",
    "Date: 30/08/1980\n",
    "Invalid Date: 31/02/1980\n",
    "Invalid Date: 30/02/1980\n",
    "Invalid Date: 29/02/1981\n",
    "Invalid Date: 05/88/1980\n",
    "Invalid Date: 00/04/1980\n",
    "Invalid Date: 01/00/1980\n",
    "Invalid Date: 05/19/1980\n",
    "Invalid Date: 99/07/1980\n",
    "\n",
    "[0-9][0-9][-/][0-9][0-9][/-][0-9]{4}\n",
    "0[1-9]|[12][0-9] -> matches 01 till 29\n",
    "\n",
    "0[1-9]|[12][0-9]|30|31 -> Date 01 till 31\n",
    "0[1-9] | 1[0-2] -> Month\n",
    "\n",
    "0[1-9]|[12][0-9]|30|31[-/]0[1-9]|1[0-2][/-][0-9]{4}\n",
    "([0-2][0-9]|31|30)[-/](0[0-9]|11|12)[/-][0-9]{4}\n",
    "\n",
    "(0[1-9]|[12][0-9]|30|31)[-/](0[1-9]|1[0-2])[/-]([0-9]{4})\n",
    "\n",
    "\n",
    "```\n"
   ]
  },
  {
   "cell_type": "code",
   "execution_count": 7,
   "metadata": {},
   "outputs": [],
   "source": [
    "# \\w -> [ \\t]+"
   ]
  },
  {
   "cell_type": "code",
   "execution_count": 8,
   "metadata": {},
   "outputs": [],
   "source": [
    "import re"
   ]
  },
  {
   "cell_type": "code",
   "execution_count": 9,
   "metadata": {},
   "outputs": [
    {
     "data": {
      "text/plain": [
       "<_sre.SRE_Match object; span=(0, 6), match='From: '>"
      ]
     },
     "execution_count": 9,
     "metadata": {},
     "output_type": "execute_result"
    }
   ],
   "source": [
    "re.search(\"From: \", \"From: sandeep\")"
   ]
  },
  {
   "cell_type": "code",
   "execution_count": 11,
   "metadata": {},
   "outputs": [
    {
     "name": "stdout",
     "output_type": "stream",
     "text": [
      "Not FOund\n"
     ]
    }
   ],
   "source": [
    "if re.search(\"From: \", \"XYZ\"): \n",
    "    print(\"Found!\")\n",
    "else:\n",
    "    print(\"Not FOund\")"
   ]
  },
  {
   "cell_type": "code",
   "execution_count": 14,
   "metadata": {},
   "outputs": [],
   "source": [
    "m = re.search(\"^From: (.+)$\", \"From: sandeep\")"
   ]
  },
  {
   "cell_type": "code",
   "execution_count": 16,
   "metadata": {},
   "outputs": [
    {
     "data": {
      "text/plain": [
       "('sandeep',)"
      ]
     },
     "execution_count": 16,
     "metadata": {},
     "output_type": "execute_result"
    }
   ],
   "source": [
    "m.groups()"
   ]
  },
  {
   "cell_type": "code",
   "execution_count": 24,
   "metadata": {},
   "outputs": [],
   "source": [
    "m = re.search(\"((0[1-9]|[12][0-9]|30|31)[-/](0[1-9]|1[0-2])[/-]([0-9]{4}))\", \n",
    "              \"30/08/1980\")"
   ]
  },
  {
   "cell_type": "code",
   "execution_count": 25,
   "metadata": {},
   "outputs": [
    {
     "data": {
      "text/plain": [
       "<_sre.SRE_Match object; span=(0, 10), match='30/08/1980'>"
      ]
     },
     "execution_count": 25,
     "metadata": {},
     "output_type": "execute_result"
    }
   ],
   "source": [
    "m"
   ]
  },
  {
   "cell_type": "code",
   "execution_count": 26,
   "metadata": {},
   "outputs": [
    {
     "data": {
      "text/plain": [
       "('30/08/1980', '30', '08', '1980')"
      ]
     },
     "execution_count": 26,
     "metadata": {},
     "output_type": "execute_result"
    }
   ],
   "source": [
    "m.groups()"
   ]
  },
  {
   "cell_type": "markdown",
   "metadata": {},
   "source": [
    "Q1: Write regular expression to match email address\n",
    "\n",
    "Q2: URL\n",
    "\n",
    "Q3: Build a regular expression to extract URLs from the server logs 'access.log.41'\n"
   ]
  },
  {
   "cell_type": "code",
   "execution_count": 31,
   "metadata": {},
   "outputs": [
    {
     "name": "stdout",
     "output_type": "stream",
     "text": [
      "abhinav\t\t\t     dlcourse\t\t     r\r\n",
      "abhinav-dummy\t\t     embedding\t\t     scikit_learn_data\r\n",
      "airflow\t\t\t     exam_jupyter_notebooks  skin_disease_1\r\n",
      "apache-spark\t\t     findata\t\t     sqlite\r\n",
      "aquota.group\t\t     gle\t\t     sqltut\r\n",
      "aquota.user\t\t     hive_tests\t\t     talentum\r\n",
      "big.txt\t\t\t     mapreduce-programming   test\r\n",
      "cloudxlab_jupyter_notebooks  master_whoami.sh\t     test_perms\r\n",
      "courses\t\t\t     mltut\t\t     Untitled.ipynb\r\n",
      "cxl\t\t\t     pet_mle\t\t     word_count_results\r\n",
      "cxl_libs\t\t     projects\t\t     word_count_results_nice\r\n",
      "darknet\t\t\t     py\t\t\t     xgboost\r\n",
      "datasets\t\t     python_sample_file\r\n"
     ]
    }
   ],
   "source": [
    "!ls /cxldata/"
   ]
  },
  {
   "cell_type": "code",
   "execution_count": null,
   "metadata": {},
   "outputs": [],
   "source": []
  }
 ],
 "metadata": {
  "kernelspec": {
   "display_name": "Python 3",
   "language": "python",
   "name": "python3"
  },
  "language_info": {
   "codemirror_mode": {
    "name": "ipython",
    "version": 3
   },
   "file_extension": ".py",
   "mimetype": "text/x-python",
   "name": "python",
   "nbconvert_exporter": "python",
   "pygments_lexer": "ipython3",
   "version": "3.6.8"
  },
  "toc": {
   "base_numbering": 1,
   "nav_menu": {},
   "number_sections": true,
   "sideBar": true,
   "skip_h1_title": false,
   "title_cell": "Table of Contents",
   "title_sidebar": "Contents",
   "toc_cell": false,
   "toc_position": {},
   "toc_section_display": true,
   "toc_window_display": false
  }
 },
 "nbformat": 4,
 "nbformat_minor": 2
}
