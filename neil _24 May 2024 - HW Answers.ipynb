{
 "cells": [
  {
   "cell_type": "markdown",
   "metadata": {},
   "source": [
    "Q1: Coin Toss: Create a function that return 0 or 1 with equal probability.\n",
    "Hint: random.random()"
   ]
  },
  {
   "cell_type": "code",
   "execution_count": 145,
   "metadata": {},
   "outputs": [],
   "source": [
    "from random import random"
   ]
  },
  {
   "cell_type": "code",
   "execution_count": 146,
   "metadata": {
    "scrolled": true
   },
   "outputs": [
    {
     "name": "stdout",
     "output_type": "stream",
     "text": [
      "0.39801513651273646\n",
      "0.4196673197239328\n",
      "0.758324928813058\n",
      "0.25341447465681965\n",
      "0.12286718007309239\n",
      "0.013628808255086944\n",
      "0.0935558256308634\n",
      "0.6787210618637546\n",
      "0.9814043193580304\n",
      "0.8064372169531595\n"
     ]
    }
   ],
   "source": [
    "for i in range(10):\n",
    "    print(random())"
   ]
  },
  {
   "cell_type": "code",
   "execution_count": 147,
   "metadata": {},
   "outputs": [],
   "source": [
    "def coint_toss():\n",
    "    p = random()\n",
    "    if p <= 0.5:\n",
    "        return 0\n",
    "    else:\n",
    "        return 1"
   ]
  },
  {
   "cell_type": "code",
   "execution_count": 148,
   "metadata": {},
   "outputs": [
    {
     "data": {
      "text/plain": [
       "5003"
      ]
     },
     "execution_count": 148,
     "metadata": {},
     "output_type": "execute_result"
    }
   ],
   "source": [
    "result = [coint_toss() for i in range(10000)]\n",
    "sum(result)# ~ 0.5"
   ]
  },
  {
   "cell_type": "code",
   "execution_count": 149,
   "metadata": {},
   "outputs": [],
   "source": [
    "# Q2: Coin Toss: Create a function that return 0, 1, 2 with equal probability.\n",
    "from random import random\n",
    "def coint2_toss():\n",
    "    r = random()\n",
    "    if r <= 1-2/3:\n",
    "        return 0\n",
    "    elif r <= 1 - 1/3 and r >= 1 - 2/3:\n",
    "        return 1\n",
    "    else:\n",
    "        return 2"
   ]
  },
  {
   "cell_type": "code",
   "execution_count": 150,
   "metadata": {
    "scrolled": true
   },
   "outputs": [
    {
     "name": "stdout",
     "output_type": "stream",
     "text": [
      "10062\n",
      "No of counts of '0' in result2: 3324\n",
      "No of counts of '1' in result2: 3290\n",
      "No of counts of '2' in result2: 3386\n"
     ]
    }
   ],
   "source": [
    "result2 = [coint2_toss() for i in range(10000)]\n",
    "print(sum(result2))\n",
    "print(f\"No of counts of '0' in result2: {result2.count(0)}\")\n",
    "print(f\"No of counts of '1' in result2: {result2.count(1)}\")\n",
    "print(f\"No of counts of '2' in result2: {result2.count(2)}\")"
   ]
  },
  {
   "cell_type": "code",
   "execution_count": 151,
   "metadata": {},
   "outputs": [],
   "source": [
    "# Q3: Create a n faced die which generates number from 0 to n - 1 with equal probability.\n",
    "from random import random\n",
    "def coin3_toss(n):\n",
    "    r = random()\n",
    "    a = [i for i in range(0,n)]\n",
    "    for i in range(len(a)):\n",
    "        if r <= (i+1)/n and r >= (i)/n:\n",
    "            b = a[i]\n",
    "            break\n",
    "    return b "
   ]
  },
  {
   "cell_type": "code",
   "execution_count": 152,
   "metadata": {},
   "outputs": [
    {
     "name": "stdout",
     "output_type": "stream",
     "text": [
      "10000\n",
      "No of counts of '0' in result2: 524\n",
      "No of counts of '1' in result2: 525\n",
      "No of counts of '2' in result2: 488\n",
      "No of counts of '3' in result2: 469\n",
      "No of counts of '4' in result2: 516\n",
      "No of counts of '5' in result2: 488\n",
      "No of counts of '6' in result2: 531\n",
      "No of counts of '7' in result2: 462\n",
      "No of counts of '8' in result2: 491\n",
      "No of counts of '9' in result2: 511\n",
      "No of counts of '10' in result2: 463\n",
      "No of counts of '11' in result2: 480\n",
      "No of counts of '12' in result2: 497\n",
      "No of counts of '13' in result2: 502\n",
      "No of counts of '14' in result2: 522\n",
      "No of counts of '15' in result2: 513\n",
      "No of counts of '16' in result2: 506\n",
      "No of counts of '17' in result2: 537\n",
      "No of counts of '18' in result2: 482\n",
      "No of counts of '19' in result2: 493\n"
     ]
    }
   ],
   "source": [
    "n = 20\n",
    "result3 = [coin3_toss(n) for i in range(10000)]\n",
    "print(len(result3))\n",
    "for i in range(0,n):\n",
    "    print(f\"No of counts of '{i}' in result2: {result3.count(i)}\")"
   ]
  },
  {
   "cell_type": "code",
   "execution_count": 153,
   "metadata": {},
   "outputs": [],
   "source": [
    "# Q4: Unfair Coin: \n",
    "from random import random\n",
    "\n",
    "def coin4_toss(p1):\n",
    "    r = random()\n",
    "    if r <= p1:\n",
    "        return 0\n",
    "    else:\n",
    "        return 1\n",
    "    # p1 /(p1 + p2), p2/(p1+p2)\n",
    "    # return 0 p1 probability\n",
    "    # return 1 with p2 probability"
   ]
  },
  {
   "cell_type": "code",
   "execution_count": 154,
   "metadata": {},
   "outputs": [
    {
     "name": "stdout",
     "output_type": "stream",
     "text": [
      "10000\n",
      "No of counts of '0' in result2: 6967\n",
      "No of counts of '1' in result2: 3033\n"
     ]
    }
   ],
   "source": [
    "result4 = [coin4_toss(0.7) for i in range(10000)]\n",
    "print(len(result4))\n",
    "print(f\"No of counts of '0' in result2: {result4.count(0)}\")\n",
    "print(f\"No of counts of '1' in result2: {result4.count(1)}\")"
   ]
  },
  {
   "cell_type": "code",
   "execution_count": 155,
   "metadata": {},
   "outputs": [],
   "source": [
    "#Q5: coin_toss, takes three probability p1, p2, p3 as arguments.\n",
    "from random import random\n",
    "\n",
    "def coint5_toss(p1,p2):\n",
    "    r = random()\n",
    "    if r <= p1:\n",
    "        return 0\n",
    "    elif r <= p1 + p2 and r >= p1:\n",
    "        return 1\n",
    "    else:\n",
    "        return 2\n",
    "#    Return 0 with p1 probability. 1 with p2 probability\n",
    "#   2 with p3 probability.\n",
    "\n",
    "#coin_toss_3(0.7, 0.2, 0.1) # 0 - 70% of times, 1 - 20% of time, 2 - 10% of time"
   ]
  },
  {
   "cell_type": "code",
   "execution_count": 156,
   "metadata": {
    "scrolled": true
   },
   "outputs": [
    {
     "name": "stdout",
     "output_type": "stream",
     "text": [
      "10000\n",
      "No of counts of '0' in result2: 7061\n",
      "No of counts of '1' in result2: 1929\n",
      "No of counts of '2' in result2: 1010\n"
     ]
    }
   ],
   "source": [
    "result5 = [coint5_toss(0.7,0.2) for i in range(10000)]\n",
    "print(len(result5))\n",
    "print(f\"No of counts of '0' in result2: {result5.count(0)}\")\n",
    "print(f\"No of counts of '1' in result2: {result5.count(1)}\")\n",
    "print(f\"No of counts of '2' in result2: {result5.count(2)}\")"
   ]
  },
  {
   "cell_type": "code",
   "execution_count": 157,
   "metadata": {},
   "outputs": [],
   "source": [
    "# Q6: Generalize Q5 to n number of faces. Take an array of probabilities and return 0 to len of array.\n",
    "from random import random\n",
    "def coin6_toss(n,p):\n",
    "    if n == len(p):\n",
    "        r = random()\n",
    "        a = [i for i in range(0,n)]\n",
    "        for i in range(len(p)-1):\n",
    "            if r <= sum(p[:i+1])+p[i+1] and r >= sum(p[:i])+p[i]:\n",
    "                b = a[i]\n",
    "                break\n",
    "            else:\n",
    "                b = a[-1]\n",
    "        return b\n",
    "    else:\n",
    "         print(f\"No of faces {n} not matching with length of p array {len(p)}\")"
   ]
  },
  {
   "cell_type": "code",
   "execution_count": 158,
   "metadata": {},
   "outputs": [
    {
     "name": "stdout",
     "output_type": "stream",
     "text": [
      "10000\n",
      "No of counts of '0' in result6: 980\n",
      "No of counts of '1' in result6: 473\n",
      "No of counts of '2' in result6: 490\n",
      "No of counts of '3' in result6: 2080\n",
      "No of counts of '4' in result6: 628\n",
      "No of counts of '5' in result6: 383\n",
      "No of counts of '6' in result6: 893\n",
      "No of counts of '7' in result6: 98\n",
      "No of counts of '8' in result6: 1987\n",
      "No of counts of '9' in result6: 1988\n"
     ]
    }
   ],
   "source": [
    "n = 10\n",
    "p = (0.20,0.10,0.050,0.050,0.20,0.060,0.040,0.090,0.010,0.2)\n",
    "result6 = [coin6_toss(n,p) for i in range(10000)]\n",
    "print(len(result6))\n",
    "for i in range(0,n):\n",
    "   print(f\"No of counts of '{i}' in result6: {result6.count(i)}\")"
   ]
  }
 ],
 "metadata": {
  "kernelspec": {
   "display_name": "Python 3 (ipykernel)",
   "language": "python",
   "name": "python3"
  },
  "language_info": {
   "codemirror_mode": {
    "name": "ipython",
    "version": 3
   },
   "file_extension": ".py",
   "mimetype": "text/x-python",
   "name": "python",
   "nbconvert_exporter": "python",
   "pygments_lexer": "ipython3",
   "version": "3.9.12"
  },
  "toc": {
   "base_numbering": 1,
   "nav_menu": {},
   "number_sections": true,
   "sideBar": true,
   "skip_h1_title": false,
   "title_cell": "Table of Contents",
   "title_sidebar": "Contents",
   "toc_cell": false,
   "toc_position": {},
   "toc_section_display": true,
   "toc_window_display": false
  }
 },
 "nbformat": 4,
 "nbformat_minor": 2
}
