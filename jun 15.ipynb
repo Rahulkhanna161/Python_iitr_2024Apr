{
 "cells": [
  {
   "cell_type": "markdown",
   "metadata": {},
   "source": [
    "# Variable type\n",
    "\n",
    "1. int\n",
    "2. str\n",
    "3. float\n",
    "4. boolean\n",
    "5. tuple \n",
    "6. list / range\n",
    "7. function\n",
    "8. None / NoneType"
   ]
  },
  {
   "cell_type": "code",
   "execution_count": 1,
   "metadata": {},
   "outputs": [],
   "source": [
    "x = True\n",
    "y = False"
   ]
  },
  {
   "cell_type": "code",
   "execution_count": 2,
   "metadata": {},
   "outputs": [],
   "source": [
    "x = (1,2,3)"
   ]
  },
  {
   "cell_type": "code",
   "execution_count": 3,
   "metadata": {},
   "outputs": [],
   "source": [
    "x = (1,\"sandeep\", (1,23))"
   ]
  },
  {
   "cell_type": "code",
   "execution_count": 4,
   "metadata": {},
   "outputs": [
    {
     "name": "stdout",
     "output_type": "stream",
     "text": [
      "(1, 'sandeep', (1, 23))\n"
     ]
    }
   ],
   "source": [
    "print(x)"
   ]
  },
  {
   "cell_type": "code",
   "execution_count": 5,
   "metadata": {},
   "outputs": [
    {
     "data": {
      "text/plain": [
       "tuple"
      ]
     },
     "execution_count": 5,
     "metadata": {},
     "output_type": "execute_result"
    }
   ],
   "source": [
    "type(x)"
   ]
  },
  {
   "cell_type": "code",
   "execution_count": 7,
   "metadata": {},
   "outputs": [],
   "source": [
    "x = [1,2,3, [1,2,2, ], (1,2,[4,5])]"
   ]
  },
  {
   "cell_type": "code",
   "execution_count": 8,
   "metadata": {},
   "outputs": [
    {
     "name": "stdout",
     "output_type": "stream",
     "text": [
      "[1, 2, 3, [1, 2, 2], (1, 2, [4, 5])]\n"
     ]
    }
   ],
   "source": [
    "print(x)"
   ]
  },
  {
   "cell_type": "code",
   "execution_count": 9,
   "metadata": {},
   "outputs": [],
   "source": [
    "x = lambda x: x.lower()"
   ]
  },
  {
   "cell_type": "code",
   "execution_count": 10,
   "metadata": {},
   "outputs": [
    {
     "data": {
      "text/plain": [
       "'abjs'"
      ]
     },
     "execution_count": 10,
     "metadata": {},
     "output_type": "execute_result"
    }
   ],
   "source": [
    "x(\"ABJS\")"
   ]
  },
  {
   "cell_type": "code",
   "execution_count": 11,
   "metadata": {},
   "outputs": [
    {
     "data": {
      "text/plain": [
       "function"
      ]
     },
     "execution_count": 11,
     "metadata": {},
     "output_type": "execute_result"
    }
   ],
   "source": [
    "type(x)"
   ]
  },
  {
   "cell_type": "code",
   "execution_count": 12,
   "metadata": {},
   "outputs": [],
   "source": [
    "x = None"
   ]
  },
  {
   "cell_type": "code",
   "execution_count": 13,
   "metadata": {},
   "outputs": [
    {
     "data": {
      "text/plain": [
       "NoneType"
      ]
     },
     "execution_count": 13,
     "metadata": {},
     "output_type": "execute_result"
    }
   ],
   "source": [
    "type(x)"
   ]
  },
  {
   "cell_type": "code",
   "execution_count": 14,
   "metadata": {},
   "outputs": [],
   "source": [
    "def f(x):\n",
    "    return x*x"
   ]
  },
  {
   "cell_type": "code",
   "execution_count": 16,
   "metadata": {},
   "outputs": [
    {
     "data": {
      "text/plain": [
       "function"
      ]
     },
     "execution_count": 16,
     "metadata": {},
     "output_type": "execute_result"
    }
   ],
   "source": [
    "type(f)"
   ]
  },
  {
   "cell_type": "code",
   "execution_count": 17,
   "metadata": {},
   "outputs": [],
   "source": [
    "g = f"
   ]
  },
  {
   "cell_type": "code",
   "execution_count": 18,
   "metadata": {},
   "outputs": [
    {
     "data": {
      "text/plain": [
       "100"
      ]
     },
     "execution_count": 18,
     "metadata": {},
     "output_type": "execute_result"
    }
   ],
   "source": [
    "g(10)"
   ]
  },
  {
   "cell_type": "code",
   "execution_count": 20,
   "metadata": {},
   "outputs": [
    {
     "name": "stdout",
     "output_type": "stream",
     "text": [
      "100\n",
      "100\n",
      "100\n",
      "100\n"
     ]
    }
   ],
   "source": [
    "list_of_functions = [f, f, f, f]\n",
    "for myf in list_of_functions:\n",
    "    print(myf(10))"
   ]
  },
  {
   "cell_type": "code",
   "execution_count": 21,
   "metadata": {},
   "outputs": [
    {
     "data": {
      "text/plain": [
       "1000"
      ]
     },
     "execution_count": 21,
     "metadata": {},
     "output_type": "execute_result"
    }
   ],
   "source": [
    "def cube(x):\n",
    "    return x*x*x\n",
    "\n",
    "cube(10)"
   ]
  },
  {
   "cell_type": "code",
   "execution_count": 22,
   "metadata": {},
   "outputs": [],
   "source": [
    "mycube = lambda x: x*x*x"
   ]
  },
  {
   "cell_type": "code",
   "execution_count": 23,
   "metadata": {},
   "outputs": [
    {
     "data": {
      "text/plain": [
       "1000"
      ]
     },
     "execution_count": 23,
     "metadata": {},
     "output_type": "execute_result"
    }
   ],
   "source": [
    "mycube(10)"
   ]
  },
  {
   "cell_type": "code",
   "execution_count": 24,
   "metadata": {},
   "outputs": [
    {
     "data": {
      "text/plain": [
       "function"
      ]
     },
     "execution_count": 24,
     "metadata": {},
     "output_type": "execute_result"
    }
   ],
   "source": [
    "type(mycube)"
   ]
  },
  {
   "cell_type": "code",
   "execution_count": 25,
   "metadata": {},
   "outputs": [
    {
     "data": {
      "text/plain": [
       "function"
      ]
     },
     "execution_count": 25,
     "metadata": {},
     "output_type": "execute_result"
    }
   ],
   "source": [
    "type(cube)"
   ]
  },
  {
   "cell_type": "code",
   "execution_count": 27,
   "metadata": {},
   "outputs": [],
   "source": [
    "l = [1,2,3,4]"
   ]
  },
  {
   "cell_type": "code",
   "execution_count": 28,
   "metadata": {},
   "outputs": [],
   "source": [
    "l[0] = 10"
   ]
  },
  {
   "cell_type": "code",
   "execution_count": 29,
   "metadata": {},
   "outputs": [
    {
     "data": {
      "text/plain": [
       "[10, 2, 3, 4]"
      ]
     },
     "execution_count": 29,
     "metadata": {},
     "output_type": "execute_result"
    }
   ],
   "source": [
    "l"
   ]
  },
  {
   "cell_type": "code",
   "execution_count": 86,
   "metadata": {},
   "outputs": [],
   "source": [
    "d = {\"name\":\"Sandeep\", \"age\": 43, (5,5):True}"
   ]
  },
  {
   "cell_type": "code",
   "execution_count": 87,
   "metadata": {},
   "outputs": [
    {
     "data": {
      "text/plain": [
       "dict_items([('name', 'Sandeep'), ('age', 43), ((5, 5), True)])"
      ]
     },
     "execution_count": 87,
     "metadata": {},
     "output_type": "execute_result"
    }
   ],
   "source": [
    "d.items()"
   ]
  },
  {
   "cell_type": "code",
   "execution_count": 34,
   "metadata": {},
   "outputs": [
    {
     "data": {
      "text/plain": [
       "{'name': 'Sandeep', 'age': 43, (5, 5): True}"
      ]
     },
     "execution_count": 34,
     "metadata": {},
     "output_type": "execute_result"
    }
   ],
   "source": [
    "d"
   ]
  },
  {
   "cell_type": "code",
   "execution_count": 36,
   "metadata": {},
   "outputs": [],
   "source": [
    "#key: basic datatype or a tuple"
   ]
  },
  {
   "cell_type": "code",
   "execution_count": 37,
   "metadata": {},
   "outputs": [
    {
     "data": {
      "text/plain": [
       "{'name': 'Sandeep', 'age': 43, (5, 5): True}"
      ]
     },
     "execution_count": 37,
     "metadata": {},
     "output_type": "execute_result"
    }
   ],
   "source": [
    "d"
   ]
  },
  {
   "cell_type": "code",
   "execution_count": 38,
   "metadata": {},
   "outputs": [
    {
     "data": {
      "text/plain": [
       "dict"
      ]
     },
     "execution_count": 38,
     "metadata": {},
     "output_type": "execute_result"
    }
   ],
   "source": [
    "type(d)"
   ]
  },
  {
   "cell_type": "code",
   "execution_count": 39,
   "metadata": {},
   "outputs": [],
   "source": [
    "d = {}\n",
    "d1 = dict()"
   ]
  },
  {
   "cell_type": "code",
   "execution_count": 40,
   "metadata": {},
   "outputs": [
    {
     "data": {
      "text/plain": [
       "dict"
      ]
     },
     "execution_count": 40,
     "metadata": {},
     "output_type": "execute_result"
    }
   ],
   "source": [
    "type(d1)\n"
   ]
  },
  {
   "cell_type": "code",
   "execution_count": 41,
   "metadata": {},
   "outputs": [
    {
     "data": {
      "text/plain": [
       "dict"
      ]
     },
     "execution_count": 41,
     "metadata": {},
     "output_type": "execute_result"
    }
   ],
   "source": [
    "type(d)"
   ]
  },
  {
   "cell_type": "code",
   "execution_count": 42,
   "metadata": {},
   "outputs": [],
   "source": [
    "d[\"name\"] = \"Sandeep\""
   ]
  },
  {
   "cell_type": "code",
   "execution_count": 43,
   "metadata": {},
   "outputs": [
    {
     "data": {
      "text/plain": [
       "{'name': 'Sandeep'}"
      ]
     },
     "execution_count": 43,
     "metadata": {},
     "output_type": "execute_result"
    }
   ],
   "source": [
    "d"
   ]
  },
  {
   "cell_type": "code",
   "execution_count": 44,
   "metadata": {},
   "outputs": [],
   "source": [
    "d[\"Age\"] = 40"
   ]
  },
  {
   "cell_type": "code",
   "execution_count": 45,
   "metadata": {},
   "outputs": [],
   "source": [
    "d[(10, 10)] = True"
   ]
  },
  {
   "cell_type": "code",
   "execution_count": 46,
   "metadata": {},
   "outputs": [
    {
     "data": {
      "text/plain": [
       "{'name': 'Sandeep', 'Age': 40, (10, 10): True}"
      ]
     },
     "execution_count": 46,
     "metadata": {},
     "output_type": "execute_result"
    }
   ],
   "source": [
    "d"
   ]
  },
  {
   "cell_type": "code",
   "execution_count": 47,
   "metadata": {},
   "outputs": [
    {
     "data": {
      "text/plain": [
       "dict_keys(['name', 'Age', (10, 10)])"
      ]
     },
     "execution_count": 47,
     "metadata": {},
     "output_type": "execute_result"
    }
   ],
   "source": [
    "d.keys()"
   ]
  },
  {
   "cell_type": "code",
   "execution_count": 48,
   "metadata": {},
   "outputs": [
    {
     "data": {
      "text/plain": [
       "dict_values(['Sandeep', 40, True])"
      ]
     },
     "execution_count": 48,
     "metadata": {},
     "output_type": "execute_result"
    }
   ],
   "source": [
    "d.values()"
   ]
  },
  {
   "cell_type": "code",
   "execution_count": 49,
   "metadata": {},
   "outputs": [
    {
     "data": {
      "text/plain": [
       "dict_items([('name', 'Sandeep'), ('Age', 40), ((10, 10), True)])"
      ]
     },
     "execution_count": 49,
     "metadata": {},
     "output_type": "execute_result"
    }
   ],
   "source": [
    "d.items()"
   ]
  },
  {
   "cell_type": "code",
   "execution_count": 50,
   "metadata": {},
   "outputs": [
    {
     "name": "stdout",
     "output_type": "stream",
     "text": [
      "name\n",
      "Age\n",
      "(10, 10)\n"
     ]
    }
   ],
   "source": [
    "for k in d.keys():\n",
    "    print(k)"
   ]
  },
  {
   "cell_type": "code",
   "execution_count": 51,
   "metadata": {},
   "outputs": [],
   "source": [
    "#Q: Find the frequency of words in a file\n",
    "\n",
    "# the cat jumped over the rat\n",
    "\n",
    "# the: 2\n",
    "# cat: 1\n",
    "# rat : 1\n",
    "# over: 1\n",
    "# jumped: 1"
   ]
  },
  {
   "cell_type": "code",
   "execution_count": 62,
   "metadata": {},
   "outputs": [],
   "source": [
    "d = {}"
   ]
  },
  {
   "cell_type": "code",
   "execution_count": 64,
   "metadata": {},
   "outputs": [
    {
     "data": {
      "text/plain": [
       "False"
      ]
     },
     "execution_count": 64,
     "metadata": {},
     "output_type": "execute_result"
    }
   ],
   "source": [
    "\"the\" in d"
   ]
  },
  {
   "cell_type": "code",
   "execution_count": 65,
   "metadata": {},
   "outputs": [],
   "source": [
    "d['the'] = 1"
   ]
  },
  {
   "cell_type": "code",
   "execution_count": 66,
   "metadata": {},
   "outputs": [
    {
     "data": {
      "text/plain": [
       "{'the': 1}"
      ]
     },
     "execution_count": 66,
     "metadata": {},
     "output_type": "execute_result"
    }
   ],
   "source": [
    "d"
   ]
  },
  {
   "cell_type": "code",
   "execution_count": 67,
   "metadata": {},
   "outputs": [],
   "source": [
    "d['the'] += 1"
   ]
  },
  {
   "cell_type": "code",
   "execution_count": 68,
   "metadata": {},
   "outputs": [
    {
     "data": {
      "text/plain": [
       "{'the': 2}"
      ]
     },
     "execution_count": 68,
     "metadata": {},
     "output_type": "execute_result"
    }
   ],
   "source": [
    "d"
   ]
  },
  {
   "cell_type": "code",
   "execution_count": 69,
   "metadata": {},
   "outputs": [
    {
     "data": {
      "text/plain": [
       "['the', 'cat', 'jumped', 'over', 'the', 'rat']"
      ]
     },
     "execution_count": 69,
     "metadata": {},
     "output_type": "execute_result"
    }
   ],
   "source": [
    "'the cat jumped over the rat'.split()"
   ]
  },
  {
   "cell_type": "code",
   "execution_count": 60,
   "metadata": {},
   "outputs": [],
   "source": [
    "def count_words(filename):\n",
    "    d = {}\n",
    "    with open(filename) as fh:\n",
    "        words = fh.read().split()\n",
    "        for word in words:\n",
    "            word = word.lower()\n",
    "            if word in d:\n",
    "                d[word] += 1\n",
    "            else:\n",
    "                d[word] = 1\n",
    "    return d"
   ]
  },
  {
   "cell_type": "code",
   "execution_count": 80,
   "metadata": {},
   "outputs": [],
   "source": [
    "myd=count_words('big.txt')"
   ]
  },
  {
   "cell_type": "markdown",
   "metadata": {},
   "source": [
    "Q: Given a dictionary of word-counts, sort the words based on the count in descending order"
   ]
  },
  {
   "cell_type": "code",
   "execution_count": 74,
   "metadata": {},
   "outputs": [],
   "source": [
    "def order_by_value(mydict):\n",
    "    lst = []\n",
    "    for key in mydict:\n",
    "        v = mydict[key]\n",
    "        lst.append((v, key))\n",
    "    lst.sort() #Order of n*log(n)\n",
    "    lst.reverse() #Order of n\n",
    "    return lst"
   ]
  },
  {
   "cell_type": "code",
   "execution_count": 75,
   "metadata": {
    "collapsed": true
   },
   "outputs": [
    {
     "data": {
      "text/plain": [
       "[(78172, 'the'),\n",
       " (39450, 'of'),\n",
       " (37009, 'and'),\n",
       " (28295, 'to'),\n",
       " (21393, 'in'),\n",
       " (20610, 'a'),\n",
       " (11483, 'that'),\n",
       " (11481, 'he'),\n",
       " (11159, 'was'),\n",
       " (9961, 'his'),\n",
       " (9582, 'with'),\n",
       " (9312, 'is'),\n",
       " (8172, 'it'),\n",
       " (7837, 'as'),\n",
       " (7318, 'had'),\n",
       " (6690, 'at'),\n",
       " (6626, 'for'),\n",
       " (6584, 'by'),\n",
       " (6308, 'not'),\n",
       " (6223, 'on'),\n",
       " (5957, 'be'),\n",
       " (5803, 'i'),\n",
       " (5589, 'from'),\n",
       " (5237, 'or'),\n",
       " (5081, 'but'),\n",
       " (4603, 'which'),\n",
       " (4466, 'her'),\n",
       " (4182, 'were'),\n",
       " (4008, 'you'),\n",
       " (3708, 'they'),\n",
       " (3675, 'all'),\n",
       " (3643, 'she'),\n",
       " (3593, 'this'),\n",
       " (3448, 'are'),\n",
       " (3410, 'have'),\n",
       " (3359, 'an'),\n",
       " (3109, 'him'),\n",
       " (2946, 'said'),\n",
       " (2945, 'their'),\n",
       " (2894, 'one'),\n",
       " (2765, 'who'),\n",
       " (2731, 'when'),\n",
       " (2569, 'been'),\n",
       " (2528, 'so'),\n",
       " (2476, 'may'),\n",
       " (2452, 'what'),\n",
       " (2338, 'there'),\n",
       " (2148, 'if'),\n",
       " (2107, 'into'),\n",
       " (2106, 'my'),\n",
       " (1911, 'would'),\n",
       " (1894, 'up'),\n",
       " (1873, 'no'),\n",
       " (1830, 'more'),\n",
       " (1805, 'only'),\n",
       " (1800, 'did'),\n",
       " (1711, 'prince'),\n",
       " (1688, 'out'),\n",
       " (1673, 'could'),\n",
       " (1633, 'its'),\n",
       " (1593, 'we'),\n",
       " (1561, 'has'),\n",
       " (1499, 'some'),\n",
       " (1457, 'after'),\n",
       " (1431, 'them'),\n",
       " (1427, 'will'),\n",
       " (1382, 'such'),\n",
       " (1378, 'about'),\n",
       " (1337, 'other'),\n",
       " (1274, 'should'),\n",
       " (1272, 'very'),\n",
       " (1261, 'pierre'),\n",
       " (1199, 'than'),\n",
       " (1197, 'your'),\n",
       " (1192, 'now'),\n",
       " (1174, 'do'),\n",
       " (1172, 'any'),\n",
       " (1165, 'those'),\n",
       " (1157, 'new'),\n",
       " (1155, 'these'),\n",
       " (1148, 'over'),\n",
       " (1123, 'before'),\n",
       " (1114, '\"i'),\n",
       " (1105, 'how'),\n",
       " (1103, 'then'),\n",
       " (1088, 'upon'),\n",
       " (1084, 'man'),\n",
       " (1081, 'old'),\n",
       " (1078, 'me'),\n",
       " (1076, 'time'),\n",
       " (1069, 'first'),\n",
       " (1035, 'our'),\n",
       " (1007, 'two'),\n",
       " (987, 'without'),\n",
       " (987, 'went'),\n",
       " (969, 'like'),\n",
       " (967, 'same'),\n",
       " (954, 'little'),\n",
       " (947, 'made'),\n",
       " (944, 'under'),\n",
       " (939, 'came'),\n",
       " (931, 'must'),\n",
       " (924, 'down'),\n",
       " (923, 'him.'),\n",
       " (919, 'even'),\n",
       " (896, 'being'),\n",
       " (885, 'most'),\n",
       " (862, 'where'),\n",
       " (853, 'long'),\n",
       " (836, 'men'),\n",
       " (836, 'french'),\n",
       " (834, 'see'),\n",
       " (828, 'still'),\n",
       " (822, 'can'),\n",
       " (797, 'him,'),\n",
       " (794, 'through'),\n",
       " (794, 'himself'),\n",
       " (784, 'know'),\n",
       " (757, 'face'),\n",
       " (750, 'looked'),\n",
       " (748, 'great'),\n",
       " (742, 'began'),\n",
       " (728, 'princess'),\n",
       " (724, 'thought'),\n",
       " (724, 'just'),\n",
       " (723, 'andrew'),\n",
       " (722, 'left'),\n",
       " (722, 'come'),\n",
       " (717, 'while'),\n",
       " (716, 'whole'),\n",
       " (712, 'shall'),\n",
       " (703, 'own'),\n",
       " (701, 'am'),\n",
       " (683, 'natasha'),\n",
       " (683, 'also'),\n",
       " (678, 'go'),\n",
       " (676, 'seemed'),\n",
       " (667, 'it.'),\n",
       " (662, 'felt'),\n",
       " (662, 'american'),\n",
       " (656, 'having'),\n",
       " (651, 'against'),\n",
       " (640, 'general'),\n",
       " (639, 'between'),\n",
       " (636, 'every'),\n",
       " (614, 'people'),\n",
       " (612, 'asked'),\n",
       " (609, 'part'),\n",
       " (607, 'though'),\n",
       " (598, 'much'),\n",
       " (595, 'again'),\n",
       " (594, 'way'),\n",
       " (594, 'and,'),\n",
       " (589, 'many'),\n",
       " (587, 'always'),\n",
       " (582, 'take'),\n",
       " (579, 'saw'),\n",
       " (572, 'because'),\n",
       " (571, 'young'),\n",
       " (568, 'something'),\n",
       " (567, 'eyes'),\n",
       " (565, 'took'),\n",
       " (557, 'back'),\n",
       " (554, 'never'),\n",
       " (550, 'states'),\n",
       " (546, 'united'),\n",
       " (539, 'away'),\n",
       " (536, 'heard'),\n",
       " (531, 'another'),\n",
       " (527, 'war'),\n",
       " (518, 'state'),\n",
       " (518, 'met'),\n",
       " (517, '\"the'),\n",
       " (515, 'usually'),\n",
       " (515, 'day'),\n",
       " (511, 'might'),\n",
       " (510, 'found'),\n",
       " (506, 'last'),\n",
       " (503, 'say'),\n",
       " (495, 'during'),\n",
       " (495, 'both'),\n",
       " (493, 'turned'),\n",
       " (492, 'give'),\n",
       " (490, 'make'),\n",
       " (490, 'it,'),\n",
       " (489, 'three'),\n",
       " (487, 'head'),\n",
       " (486, 'army'),\n",
       " (484, \"don't\"),\n",
       " (478, 'nothing'),\n",
       " (472, 'life'),\n",
       " (470, 'told'),\n",
       " (470, 'quite'),\n",
       " (467, 'place'),\n",
       " (465, 'off'),\n",
       " (463, 'round'),\n",
       " (462, 'once'),\n",
       " (460, 'of,'),\n",
       " (460, 'hand'),\n",
       " (460, 'good'),\n",
       " (459, 'rostov'),\n",
       " (458, 'small'),\n",
       " (458, 'right'),\n",
       " (458, 'chapter'),\n",
       " (457, 'knew'),\n",
       " (456, 'already'),\n",
       " (455, 'us'),\n",
       " (455, 'look'),\n",
       " (455, 'count'),\n",
       " (453, 'whom'),\n",
       " (452, 'tell'),\n",
       " (449, 'think'),\n",
       " (449, 'large'),\n",
       " (449, 'get'),\n",
       " (448, 'few'),\n",
       " (446, 'suddenly'),\n",
       " (443, 'room'),\n",
       " (441, 'among'),\n",
       " (440, 'looking'),\n",
       " (437, '\"and'),\n",
       " (436, 'gave'),\n",
       " (435, 'well'),\n",
       " (432, 'often'),\n",
       " (431, 'government'),\n",
       " (429, 'mary'),\n",
       " (427, 'let'),\n",
       " (425, 'form'),\n",
       " (423, '\"you'),\n",
       " (421, 'yet'),\n",
       " (420, 'put'),\n",
       " (413, 'russian'),\n",
       " (411, 'taken'),\n",
       " (411, 'disease'),\n",
       " (408, 'sometimes'),\n",
       " (405, 'moscow'),\n",
       " (405, 'become'),\n",
       " (403, 'years'),\n",
       " (401, 'soon'),\n",
       " (400, '\"but'),\n",
       " (396, 'each'),\n",
       " (395, 'house'),\n",
       " (394, 'sat'),\n",
       " (393, 'brought'),\n",
       " (391, 'called'),\n",
       " (385, 'why'),\n",
       " (383, 'seen'),\n",
       " (380, 'nicholas'),\n",
       " (378, 'power'),\n",
       " (378, 'especially'),\n",
       " (378, 'along'),\n",
       " (375, 'love'),\n",
       " (374, 'emperor'),\n",
       " (372, 'far'),\n",
       " (370, 'several'),\n",
       " (369, '=the'),\n",
       " (367, 'her.'),\n",
       " (367, 'blood'),\n",
       " (366, 'stood'),\n",
       " (366, 'evidently'),\n",
       " (364, 'too'),\n",
       " (364, 'side'),\n",
       " (364, 'napoleon'),\n",
       " (364, 'end'),\n",
       " (362, 'them.'),\n",
       " (361, 'however,'),\n",
       " (361, 'bone'),\n",
       " (359, 'skin'),\n",
       " (357, 'less'),\n",
       " (357, 'cases'),\n",
       " (353, '\"what'),\n",
       " (351, 'result'),\n",
       " (350, 'behind'),\n",
       " (350, '\"yes,'),\n",
       " (349, 'here'),\n",
       " (346, 'known'),\n",
       " (344, 'free'),\n",
       " (339, 'whether'),\n",
       " (338, 'given'),\n",
       " (338, 'certain'),\n",
       " (335, 'does'),\n",
       " (334, 'passed'),\n",
       " (334, 'moment'),\n",
       " (331, 'toward'),\n",
       " (329, 'done'),\n",
       " (329, '\"well,'),\n",
       " (327, 'mr.'),\n",
       " (327, 'kutuzov'),\n",
       " (321, 'feeling'),\n",
       " (318, 'everything'),\n",
       " (318, 'case'),\n",
       " (318, 'almost'),\n",
       " (316, 'going'),\n",
       " (315, 'days'),\n",
       " (314, '|'),\n",
       " (313, 'until'),\n",
       " (313, 'tissue'),\n",
       " (312, 'congress'),\n",
       " (311, 'countess'),\n",
       " (310, 'patient'),\n",
       " (308, 'order'),\n",
       " (308, 'became'),\n",
       " (307, 'sent'),\n",
       " (307, 'ran'),\n",
       " (307, 'pp.'),\n",
       " (304, 'set'),\n",
       " (303, 'words'),\n",
       " (303, 'white'),\n",
       " (303, 'followed'),\n",
       " (299, 'battle'),\n",
       " (296, 'within'),\n",
       " (296, 'position'),\n",
       " (295, 'taking'),\n",
       " (292, 'dear'),\n",
       " (291, 'front'),\n",
       " (290, 'her,'),\n",
       " (290, 'anna'),\n",
       " (289, 'officer'),\n",
       " (287, 'condition'),\n",
       " (286, 'understand'),\n",
       " (285, 'said,'),\n",
       " (284, 'use'),\n",
       " (283, 'find'),\n",
       " (280, \"it's\"),\n",
       " (280, '\"it'),\n",
       " (278, 'you,'),\n",
       " (278, 'lay'),\n",
       " (278, 'cause'),\n",
       " (278, 'carried'),\n",
       " (278, '\"'),\n",
       " (277, 'above'),\n",
       " (276, 'near'),\n",
       " (275, 'want'),\n",
       " (275, 'door'),\n",
       " (275, 'anything'),\n",
       " (275, '[illustration:'),\n",
       " (274, 'hands'),\n",
       " (274, 'course'),\n",
       " (272, 'number'),\n",
       " (272, 'nor'),\n",
       " (272, 'held'),\n",
       " (272, 'got'),\n",
       " (269, 'soldiers'),\n",
       " (266, 'them,'),\n",
       " (265, 'pierre,'),\n",
       " (262, 'replied'),\n",
       " (262, 'common'),\n",
       " (261, 'either'),\n",
       " (261, 'cannot'),\n",
       " (259, 'project'),\n",
       " (258, 'public'),\n",
       " (258, 'next'),\n",
       " (258, 'necessary'),\n",
       " (257, 'chief'),\n",
       " (256, 'national'),\n",
       " (256, 'leave'),\n",
       " (255, 'work'),\n",
       " (255, 'others'),\n",
       " (255, 'me,'),\n",
       " (255, 'history'),\n",
       " (255, 'british'),\n",
       " (253, 'movement'),\n",
       " (252, 'received'),\n",
       " (252, 'expression'),\n",
       " (250, 'room.'),\n",
       " (250, 'full'),\n",
       " (248, 'used'),\n",
       " (248, 'father'),\n",
       " (247, 'kept'),\n",
       " (247, 'half'),\n",
       " (246, 'since'),\n",
       " (246, 'second'),\n",
       " (246, 'infection'),\n",
       " (245, 'political'),\n",
       " (244, 'troops'),\n",
       " (243, 'important'),\n",
       " (242, 'early'),\n",
       " (241, 'action'),\n",
       " (240, 'question'),\n",
       " (240, 'fact'),\n",
       " (240, 'different'),\n",
       " (240, 'becomes'),\n",
       " (239, 'things'),\n",
       " (239, 'president'),\n",
       " (238, 'voice'),\n",
       " (236, 'sitting'),\n",
       " (236, 'country'),\n",
       " (236, 'act'),\n",
       " (234, 'high'),\n",
       " (234, 'due'),\n",
       " (234, 'around'),\n",
       " (233, 'open'),\n",
       " (233, 'best'),\n",
       " (232, 'talk'),\n",
       " (232, 'matter'),\n",
       " (232, 'later'),\n",
       " (232, 'herself'),\n",
       " (232, 'commander'),\n",
       " (230, 'he,'),\n",
       " (230, '\"oh,'),\n",
       " (229, 'treatment'),\n",
       " (229, 'labor'),\n",
       " (229, 'four'),\n",
       " (226, 'man,'),\n",
       " (225, 'present'),\n",
       " (225, 'drawing'),\n",
       " (224, 'entered'),\n",
       " (223, 'thousand'),\n",
       " (223, 'moved'),\n",
       " (222, 'hundred'),\n",
       " (222, 'five'),\n",
       " (221, 'sonya'),\n",
       " (221, 'means'),\n",
       " (220, 'wound'),\n",
       " (220, 'time,'),\n",
       " (220, 'forms'),\n",
       " (219, 'smile'),\n",
       " (219, 'rode'),\n",
       " (219, 'pierre.'),\n",
       " (218, 'thing'),\n",
       " (218, 'letter'),\n",
       " (218, 'law'),\n",
       " (217, 'then,'),\n",
       " (217, 'rise'),\n",
       " (217, 'really'),\n",
       " (217, 'beside'),\n",
       " (215, 'word'),\n",
       " (215, 'wish'),\n",
       " (215, 'ask'),\n",
       " (214, 'women'),\n",
       " (214, 'possible'),\n",
       " (214, 'better'),\n",
       " (213, 'rather'),\n",
       " (213, 'mind'),\n",
       " (213, 'military'),\n",
       " (212, 'beyond'),\n",
       " (212, '\"no,'),\n",
       " (211, 'joint'),\n",
       " (211, 'denisov'),\n",
       " (211, 'alone'),\n",
       " (210, 'remained'),\n",
       " (210, 'frequently'),\n",
       " (210, '_the'),\n",
       " (209, 'tried'),\n",
       " (209, 'till'),\n",
       " (209, 'speak'),\n",
       " (209, 'parts'),\n",
       " (209, 'officers'),\n",
       " (209, 'body'),\n",
       " (207, 'money'),\n",
       " (207, 'example,'),\n",
       " (207, 'ever'),\n",
       " (207, 'continued'),\n",
       " (206, 'themselves'),\n",
       " (205, 'wished'),\n",
       " (204, 'turning'),\n",
       " (204, 'natasha,'),\n",
       " (204, 'business'),\n",
       " (203, 'close'),\n",
       " (202, 'world'),\n",
       " (202, 'reached'),\n",
       " (202, 'now,'),\n",
       " (202, 'holmes'),\n",
       " (202, 'formation'),\n",
       " (202, 'cried'),\n",
       " (202, 'across'),\n",
       " (201, 'understood'),\n",
       " (201, 'making'),\n",
       " (201, 'longer'),\n",
       " (200, 'third'),\n",
       " (200, 'that,'),\n",
       " (200, 'show'),\n",
       " (200, 'following'),\n",
       " (199, 'spoke'),\n",
       " (199, 'help'),\n",
       " (199, 'face,'),\n",
       " (198, 'shouted'),\n",
       " (197, \"that's\"),\n",
       " (197, 'ten'),\n",
       " (196, 'seeing'),\n",
       " (196, 'party'),\n",
       " (194, 'south'),\n",
       " (194, 'led'),\n",
       " (194, 'everyone'),\n",
       " (193, 'rose'),\n",
       " (193, 'light'),\n",
       " (193, 'able'),\n",
       " (192, 'thus'),\n",
       " (191, 'tuberculous'),\n",
       " (191, 'land'),\n",
       " (191, 'is,'),\n",
       " (191, 'hand,'),\n",
       " (191, 'clear'),\n",
       " (189, 'merely'),\n",
       " (189, 'itself'),\n",
       " (189, 'associated'),\n",
       " (187, 'southern'),\n",
       " (187, 'horse'),\n",
       " (186, 'sound'),\n",
       " (186, 'raised'),\n",
       " (186, 'name'),\n",
       " (186, 'morning'),\n",
       " (186, 'giving'),\n",
       " (186, 'andrew,'),\n",
       " (185, 'standing'),\n",
       " (185, 'fig.'),\n",
       " (185, \"can't\"),\n",
       " (184, 'room,'),\n",
       " (184, 'process'),\n",
       " (183, 'gone'),\n",
       " (183, 'formed'),\n",
       " (183, 'black'),\n",
       " (182, 'wanted'),\n",
       " (182, 'read'),\n",
       " (182, 'home'),\n",
       " (182, 'force'),\n",
       " (182, 'dolokhov'),\n",
       " (181, 'west'),\n",
       " (181, 'strange'),\n",
       " (181, 'opened'),\n",
       " (181, 'lower'),\n",
       " (180, 'year'),\n",
       " (180, 'results'),\n",
       " (180, 'eyes,'),\n",
       " (180, 'deep'),\n",
       " (180, 'cold'),\n",
       " (179, 'nerve'),\n",
       " (179, 'line'),\n",
       " (179, 'federal'),\n",
       " (179, 'english'),\n",
       " (178, 'spread'),\n",
       " (178, 'night'),\n",
       " (178, 'laid'),\n",
       " (178, 'coming'),\n",
       " (177, 'trying'),\n",
       " (177, 'pain'),\n",
       " (177, 'noticed'),\n",
       " (177, '\"he'),\n",
       " (176, 'whose'),\n",
       " (176, 'growth'),\n",
       " (176, 'death'),\n",
       " (176, 'conditions'),\n",
       " (175, 'tissues'),\n",
       " (175, 'lymph'),\n",
       " (175, 'glanced'),\n",
       " (175, 'answered'),\n",
       " (174, 'up,'),\n",
       " (174, 'presence'),\n",
       " (174, 'news'),\n",
       " (174, 'nearly'),\n",
       " (174, 'he.'),\n",
       " (174, 'cut'),\n",
       " (173, 'wife'),\n",
       " (173, 'surface'),\n",
       " (173, 'placed'),\n",
       " (173, 'king'),\n",
       " (173, 'foreign'),\n",
       " (173, 'call'),\n",
       " (172, 'woman'),\n",
       " (172, 'civil'),\n",
       " (172, 'applied'),\n",
       " (171, 'talking'),\n",
       " (171, 'returned'),\n",
       " (171, 'middle'),\n",
       " (171, 'hardly'),\n",
       " (171, 'former'),\n",
       " (170, 'times'),\n",
       " (170, 'laws'),\n",
       " (169, 'ready'),\n",
       " (168, 'vasili'),\n",
       " (168, 'local'),\n",
       " (168, 'appeared'),\n",
       " (167, 'single'),\n",
       " (167, 'life,'),\n",
       " (167, 'eyes.'),\n",
       " (166, 'son'),\n",
       " (166, 'red'),\n",
       " (166, \"pierre's\"),\n",
       " (166, \"i'll\"),\n",
       " (166, 'himself,'),\n",
       " (166, 'england'),\n",
       " (166, 'considerable'),\n",
       " (166, 'arms'),\n",
       " (165, 'wounded'),\n",
       " (165, 'petya'),\n",
       " (165, 'particularly'),\n",
       " (165, 'happy'),\n",
       " (164, 'terrible'),\n",
       " (164, 'short'),\n",
       " (164, 'evening'),\n",
       " (164, '\"that'),\n",
       " (163, 'meet'),\n",
       " (163, 'least'),\n",
       " (163, 'in,'),\n",
       " (163, 'grew'),\n",
       " (163, 'de'),\n",
       " (162, 'neither'),\n",
       " (162, 'men,'),\n",
       " (162, 'crowd'),\n",
       " (162, 'according'),\n",
       " (161, 'field'),\n",
       " (160, 'stopped'),\n",
       " (160, 'point'),\n",
       " (160, 'me.'),\n",
       " (160, 'hear'),\n",
       " (160, 'enemy'),\n",
       " (160, 'boris'),\n",
       " (159, 'impossible'),\n",
       " (159, 'forward'),\n",
       " (159, 'bring'),\n",
       " (159, 'added'),\n",
       " (158, 'republican'),\n",
       " (158, 'lost'),\n",
       " (157, 'war,'),\n",
       " (157, 'states,'),\n",
       " (157, 'saying'),\n",
       " (157, 'orders'),\n",
       " (157, 'occur'),\n",
       " (157, 'horses'),\n",
       " (157, 'fell'),\n",
       " (157, 'constitution'),\n",
       " (157, 'believe'),\n",
       " (156, 'interest'),\n",
       " (156, 'human'),\n",
       " (155, 'return'),\n",
       " (155, 'except'),\n",
       " (155, 'colonial'),\n",
       " (154, 'trade'),\n",
       " (154, 'together'),\n",
       " (154, 'rostov,'),\n",
       " (154, 'repeated'),\n",
       " (154, 'pressure'),\n",
       " (153, 'turn'),\n",
       " (153, 'severe'),\n",
       " (153, 'face.'),\n",
       " (153, '\"how'),\n",
       " (152, 'well,'),\n",
       " (152, 'special'),\n",
       " (152, 'fire'),\n",
       " (152, 'drew'),\n",
       " (152, '\"a'),\n",
       " (151, 'you.'),\n",
       " (151, 'past'),\n",
       " (151, 'north'),\n",
       " (151, 'bones'),\n",
       " (151, 'arm'),\n",
       " (150, 'yes,'),\n",
       " (150, 'immediately'),\n",
       " (150, 'feel'),\n",
       " (150, 'account'),\n",
       " (149, 'various'),\n",
       " (149, 'takes'),\n",
       " (149, 'rapidly'),\n",
       " (149, 'perhaps'),\n",
       " (149, 'mother'),\n",
       " (149, 'covered'),\n",
       " (149, 'although'),\n",
       " (148, 'union'),\n",
       " (148, 'table'),\n",
       " (148, 'period'),\n",
       " (148, '\"if'),\n",
       " (147, 'system'),\n",
       " (147, 'opinion'),\n",
       " (147, 'german'),\n",
       " (147, 'effect'),\n",
       " (147, 'affected'),\n",
       " (146, \"won't\"),\n",
       " (146, 'speaking'),\n",
       " (146, 'person'),\n",
       " (146, 'glands'),\n",
       " (145, 'showed'),\n",
       " (145, 'seat'),\n",
       " (145, 'heart'),\n",
       " (145, 'answer'),\n",
       " (144, 'unable'),\n",
       " (144, 'need'),\n",
       " (143, 'strong'),\n",
       " (143, 'six'),\n",
       " (143, 'moscow,'),\n",
       " (143, 'holding'),\n",
       " (142, 'liable'),\n",
       " (142, 'changes'),\n",
       " (142, 'another,'),\n",
       " (142, '\"we'),\n",
       " (141, 'strength'),\n",
       " (141, 'steps'),\n",
       " (141, 'soft'),\n",
       " (141, 'members'),\n",
       " (141, 'considered'),\n",
       " (141, 'attention'),\n",
       " (141, 'anyone'),\n",
       " (141, 'anatole'),\n",
       " (141, 'all,'),\n",
       " (140, 'tumour'),\n",
       " (140, 'subject'),\n",
       " (140, 'st.'),\n",
       " (140, 'road'),\n",
       " (140, 'reason'),\n",
       " (140, 'natasha.'),\n",
       " (140, 'hair'),\n",
       " (140, 'fresh'),\n",
       " (140, 'army,'),\n",
       " (139, 'symptoms'),\n",
       " (139, 'petersburg'),\n",
       " (139, 'hand.'),\n",
       " (139, 'growing'),\n",
       " (139, 'bone,'),\n",
       " (138, 'waiting'),\n",
       " (138, 'said.'),\n",
       " (138, 'peace'),\n",
       " (138, 'myself'),\n",
       " (138, 'mademoiselle'),\n",
       " (138, 'himself.'),\n",
       " (138, 'greater'),\n",
       " (138, 'america'),\n",
       " (138, 'afraid'),\n",
       " (137, 'vessels'),\n",
       " (137, 'usual'),\n",
       " (137, 'soldier'),\n",
       " (137, 'opening'),\n",
       " (137, 'lesions'),\n",
       " (137, 'keep'),\n",
       " (137, 'happened'),\n",
       " (137, 'fixed'),\n",
       " (136, 'view'),\n",
       " (136, 'time.'),\n",
       " (136, 'there,'),\n",
       " (136, 'remain'),\n",
       " (136, 'quickly'),\n",
       " (136, 'probably'),\n",
       " (136, 'ordered'),\n",
       " (135, 'therefore'),\n",
       " (135, 'rest'),\n",
       " (135, 'listened'),\n",
       " (135, 'god'),\n",
       " (135, 'events'),\n",
       " (135, 'consists'),\n",
       " (135, 'acute'),\n",
       " (134, 'wrote'),\n",
       " (134, 'who,'),\n",
       " (134, 'hard'),\n",
       " (134, 'doing'),\n",
       " (134, 'closed'),\n",
       " (134, 'air'),\n",
       " (133, 'struck'),\n",
       " (133, 'regiment'),\n",
       " (133, 'prevent'),\n",
       " (133, 'life.'),\n",
       " (133, '(fig.'),\n",
       " (132, 'tissue,'),\n",
       " (132, 'running'),\n",
       " (132, 'relation'),\n",
       " (132, 'decided'),\n",
       " (132, 'conversation'),\n",
       " (132, 'chiefly'),\n",
       " (131, 'on,'),\n",
       " (131, 'loss'),\n",
       " (130, 'primary'),\n",
       " (130, 'measures'),\n",
       " (130, 'fine'),\n",
       " (129, 'up.'),\n",
       " (129, 'spirit'),\n",
       " (129, 'run'),\n",
       " (129, 'natural'),\n",
       " (129, 'limb'),\n",
       " (129, 'kind'),\n",
       " (129, 'attended'),\n",
       " (128, 'operation'),\n",
       " (128, 'moving'),\n",
       " (128, 'know,'),\n",
       " (128, 'instead'),\n",
       " (128, 'declared'),\n",
       " (128, 'day,'),\n",
       " (128, 'dark'),\n",
       " (128, 'abscess'),\n",
       " (127, 'muscles'),\n",
       " (127, 'heavy'),\n",
       " (127, 'forces'),\n",
       " (126, 'swelling'),\n",
       " (126, 'smile.'),\n",
       " (126, 'further'),\n",
       " (126, 'friend'),\n",
       " (126, 'expressed'),\n",
       " (126, 'enough'),\n",
       " (126, 'drawn'),\n",
       " (126, 'difficult'),\n",
       " (125, 'upper'),\n",
       " (125, 'similar'),\n",
       " (125, 'secondary'),\n",
       " (125, 'popular'),\n",
       " (125, \"man's\"),\n",
       " (125, 'lead'),\n",
       " (125, 'finally'),\n",
       " (125, 'direct'),\n",
       " (125, 'described'),\n",
       " (125, 'dead'),\n",
       " (125, 'colonies'),\n",
       " (125, 'change'),\n",
       " (125, '\"my'),\n",
       " (124, 'which,'),\n",
       " (124, 'true'),\n",
       " (124, 'paper'),\n",
       " (124, 'holmes,'),\n",
       " (123, 'prepared'),\n",
       " (123, 'nature'),\n",
       " (123, 'john'),\n",
       " (123, 'attack'),\n",
       " (123, '\"ah,'),\n",
       " (122, 'village'),\n",
       " (122, 'twenty'),\n",
       " (122, 'term'),\n",
       " (122, 'slavery'),\n",
       " (122, 'resulting'),\n",
       " (122, 'family'),\n",
       " (122, 'appear'),\n",
       " (121, 'terms'),\n",
       " (121, 'passing'),\n",
       " (121, 'children'),\n",
       " (121, '\"why'),\n",
       " (121, '\"it\\'s'),\n",
       " (120, 'someone'),\n",
       " (120, 'serious'),\n",
       " (120, 'pass'),\n",
       " (120, 'occurs'),\n",
       " (120, 'gutenberg-tm'),\n",
       " (120, 'beginning'),\n",
       " (119, 'this,'),\n",
       " (119, 'pressed'),\n",
       " (119, 'marked'),\n",
       " (119, 'leaving'),\n",
       " (119, 'hope'),\n",
       " (119, 'freedom'),\n",
       " (118, 'tumours'),\n",
       " (118, 'relations'),\n",
       " (118, 'fear'),\n",
       " (118, 'complete'),\n",
       " (117, 'york'),\n",
       " (117, 'way,'),\n",
       " (117, 'thinking'),\n",
       " (117, 'tears'),\n",
       " (117, 'spite'),\n",
       " (117, 'kissed'),\n",
       " (116, 'service'),\n",
       " (116, 'removed'),\n",
       " (116, 'questions'),\n",
       " (116, 'doubt'),\n",
       " (116, 'clearly'),\n",
       " (116, 'asked.'),\n",
       " (116, 'andrew.'),\n",
       " (116, '\"to'),\n",
       " (115, 'produced'),\n",
       " (115, 'one,'),\n",
       " (115, 'court'),\n",
       " (115, 'campaign'),\n",
       " (115, 'area'),\n",
       " (114, 'rushed'),\n",
       " (114, 'portion'),\n",
       " (114, 'out,'),\n",
       " (114, 'increase'),\n",
       " (114, 'drove'),\n",
       " (114, 'affairs'),\n",
       " (113, 'wall'),\n",
       " (113, 'tone'),\n",
       " (113, 'seems'),\n",
       " (113, 'presented'),\n",
       " (113, 'powers'),\n",
       " (113, \"natasha's\"),\n",
       " (113, 'increased'),\n",
       " (113, 'glad'),\n",
       " (113, 'frightened'),\n",
       " (113, 'french,'),\n",
       " (113, 'feet'),\n",
       " (113, 'explain'),\n",
       " (113, 'away.'),\n",
       " (113, 'again,'),\n",
       " (112, 'rights'),\n",
       " (112, 'loved'),\n",
       " (112, 'leading'),\n",
       " (112, 'idea'),\n",
       " (112, 'filled'),\n",
       " (112, 'faces'),\n",
       " (112, 'causes'),\n",
       " (112, 'asking'),\n",
       " (112, 'artery'),\n",
       " (111, 'wounds'),\n",
       " (111, 'straight'),\n",
       " (111, 'seven'),\n",
       " (111, 'seized'),\n",
       " (111, 'plan'),\n",
       " (111, 'pay'),\n",
       " (111, 'ought'),\n",
       " (111, 'low'),\n",
       " (111, 'influence'),\n",
       " (111, 'command'),\n",
       " (110, 'voices'),\n",
       " (110, 'thin'),\n",
       " (110, 'size'),\n",
       " (110, 'shown'),\n",
       " (110, 'remembered'),\n",
       " (110, 'remember'),\n",
       " (110, 'remarked'),\n",
       " (110, 'individual'),\n",
       " (110, 'group'),\n",
       " (110, 'employed'),\n",
       " (110, 'city'),\n",
       " (110, 'broken'),\n",
       " (110, 'another.'),\n",
       " (109, 'smiling'),\n",
       " (109, 'royal'),\n",
       " (109, 'observed'),\n",
       " (109, 'nicholas,'),\n",
       " (109, 'head,'),\n",
       " (109, 'door.'),\n",
       " (109, 'direction'),\n",
       " (109, 'count,'),\n",
       " (109, 'convention'),\n",
       " (108, 'western'),\n",
       " (108, 'states.'),\n",
       " (108, 'say,'),\n",
       " (108, 'living'),\n",
       " (108, 'away,'),\n",
       " (107, 'smiled'),\n",
       " (107, 'seem'),\n",
       " (107, 'marya'),\n",
       " (107, 'house,'),\n",
       " (107, 'george'),\n",
       " (107, 'changed'),\n",
       " (106, 'voice.'),\n",
       " (106, 'vessel'),\n",
       " (106, 'spent'),\n",
       " (106, 'slight'),\n",
       " (106, 'skin,'),\n",
       " (106, 'save'),\n",
       " (106, 'pus'),\n",
       " (106, 'produce'),\n",
       " (106, 'poor'),\n",
       " (106, 'place,'),\n",
       " (106, 'method'),\n",
       " (106, 'head.'),\n",
       " (106, 'foot'),\n",
       " (106, 'fall'),\n",
       " (106, 'else'),\n",
       " (106, 'cancer'),\n",
       " (105, 'was,'),\n",
       " (105, 'sight'),\n",
       " (105, 'republicans'),\n",
       " (105, 'regarded'),\n",
       " (105, 'majority'),\n",
       " (105, 'hold'),\n",
       " (105, 'bad'),\n",
       " (105, 'adjutant'),\n",
       " (104, 'written'),\n",
       " (104, 'town'),\n",
       " (104, 'tendon'),\n",
       " (104, 'slowly'),\n",
       " (104, 'meeting'),\n",
       " (104, 'historians'),\n",
       " (104, 'easily'),\n",
       " (104, 'angry'),\n",
       " (103, 'water'),\n",
       " (103, 'sure'),\n",
       " (103, 'subcutaneous'),\n",
       " (103, 'so.'),\n",
       " (103, 'russians'),\n",
       " (103, 'occupied'),\n",
       " (103, 'main'),\n",
       " (103, 'lying'),\n",
       " (103, 'latter'),\n",
       " (103, 'late'),\n",
       " (103, 'hour'),\n",
       " (103, 'firm'),\n",
       " (103, \"emperor's\"),\n",
       " (103, 'divided'),\n",
       " (103, '\"there'),\n",
       " (102, 'showing'),\n",
       " (102, 'right,'),\n",
       " (102, 'mary,'),\n",
       " (102, 'live'),\n",
       " (102, 'follow'),\n",
       " (102, 'expected'),\n",
       " (102, 'dressing'),\n",
       " (101, 'revolution'),\n",
       " (101, 'not,'),\n",
       " (101, 'lines'),\n",
       " (101, 'girl'),\n",
       " (101, \"father's\"),\n",
       " (101, 'caused'),\n",
       " (101, 'blue'),\n",
       " (101, 'bed'),\n",
       " (100, 'surrounded'),\n",
       " (100, 'sherlock'),\n",
       " (100, 'says'),\n",
       " (100, 'paid'),\n",
       " (100, 'ordinary'),\n",
       " (100, 'nation'),\n",
       " (100, 'meaning'),\n",
       " (100, 'friends'),\n",
       " (100, 'company'),\n",
       " (100, 'carry'),\n",
       " (100, 'capital'),\n",
       " (100, 'before,'),\n",
       " ...]"
      ]
     },
     "execution_count": 75,
     "metadata": {},
     "output_type": "execute_result"
    }
   ],
   "source": [
    "counts = count_words('big.txt')\n",
    "order_by_value(counts)"
   ]
  },
  {
   "cell_type": "code",
   "execution_count": 77,
   "metadata": {},
   "outputs": [
    {
     "data": {
      "text/plain": [
       "{'the': 2}"
      ]
     },
     "execution_count": 77,
     "metadata": {},
     "output_type": "execute_result"
    }
   ],
   "source": [
    "d"
   ]
  },
  {
   "cell_type": "code",
   "execution_count": 78,
   "metadata": {},
   "outputs": [],
   "source": [
    "# Art of Programming by Knuth\n",
    "# new programming for that book - MIX - assembly\n",
    "# Every algo is written MIX"
   ]
  },
  {
   "cell_type": "code",
   "execution_count": 82,
   "metadata": {},
   "outputs": [
    {
     "data": {
      "text/plain": [
       "{'the': 2}"
      ]
     },
     "execution_count": 82,
     "metadata": {},
     "output_type": "execute_result"
    }
   ],
   "source": [
    "d"
   ]
  },
  {
   "cell_type": "code",
   "execution_count": 83,
   "metadata": {},
   "outputs": [],
   "source": [
    "del d['the']"
   ]
  },
  {
   "cell_type": "code",
   "execution_count": 84,
   "metadata": {},
   "outputs": [
    {
     "data": {
      "text/plain": [
       "{}"
      ]
     },
     "execution_count": 84,
     "metadata": {},
     "output_type": "execute_result"
    }
   ],
   "source": [
    "d"
   ]
  },
  {
   "cell_type": "code",
   "execution_count": 88,
   "metadata": {},
   "outputs": [],
   "source": [
    "def order_by_value(mydict):\n",
    "    lst = []\n",
    "    for item in mydict.items():\n",
    "        key, v = item\n",
    "        lst.append((v, key))\n",
    "    lst.sort() #Order of n*log(n)\n",
    "    lst.reverse() #Order of n\n",
    "    return lst"
   ]
  },
  {
   "cell_type": "code",
   "execution_count": 89,
   "metadata": {},
   "outputs": [],
   "source": [
    "def order_by_value(mydict):\n",
    "    lst = []\n",
    "    for key, v in mydict.items():\n",
    "        lst.append((v, key))\n",
    "    lst.sort() #Order of n*log(n)\n",
    "    lst.reverse() #Order of n\n",
    "    return lst"
   ]
  },
  {
   "cell_type": "code",
   "execution_count": 90,
   "metadata": {},
   "outputs": [],
   "source": [
    "x = [1, 10, 2, 3, -4]\n",
    "# How to sort the data?"
   ]
  },
  {
   "cell_type": "markdown",
   "metadata": {},
   "source": [
    "Q: Checkout the animations and try to code them and calculate their complexity.\n",
    "\n",
    "* BubbleSort\n",
    "* Insertion Sort\n",
    "\n",
    "* MergeSort\n",
    "* QuickSort"
   ]
  },
  {
   "cell_type": "code",
   "execution_count": 93,
   "metadata": {},
   "outputs": [],
   "source": [
    "x.sort()"
   ]
  },
  {
   "cell_type": "code",
   "execution_count": 94,
   "metadata": {},
   "outputs": [
    {
     "data": {
      "text/plain": [
       "[-4, 1, 2, 3, 10]"
      ]
     },
     "execution_count": 94,
     "metadata": {},
     "output_type": "execute_result"
    }
   ],
   "source": [
    "x"
   ]
  },
  {
   "cell_type": "code",
   "execution_count": 95,
   "metadata": {},
   "outputs": [
    {
     "name": "stdout",
     "output_type": "stream",
     "text": [
      "Help on built-in function sort:\n",
      "\n",
      "sort(...) method of builtins.list instance\n",
      "    L.sort(key=None, reverse=False) -> None -- stable sort *IN PLACE*\n",
      "\n"
     ]
    }
   ],
   "source": [
    "help(x.sort)"
   ]
  },
  {
   "cell_type": "code",
   "execution_count": 96,
   "metadata": {},
   "outputs": [
    {
     "data": {
      "text/plain": [
       "1000000000000"
      ]
     },
     "execution_count": 96,
     "metadata": {},
     "output_type": "execute_result"
    }
   ],
   "source": [
    "n = 1000000\n",
    "n*n"
   ]
  },
  {
   "cell_type": "code",
   "execution_count": null,
   "metadata": {},
   "outputs": [],
   "source": [
    "n*log(n) = 6 million"
   ]
  }
 ],
 "metadata": {
  "kernelspec": {
   "display_name": "Python 3",
   "language": "python",
   "name": "python3"
  },
  "language_info": {
   "codemirror_mode": {
    "name": "ipython",
    "version": 3
   },
   "file_extension": ".py",
   "mimetype": "text/x-python",
   "name": "python",
   "nbconvert_exporter": "python",
   "pygments_lexer": "ipython3",
   "version": "3.6.8"
  },
  "toc": {
   "base_numbering": 1,
   "nav_menu": {},
   "number_sections": true,
   "sideBar": true,
   "skip_h1_title": false,
   "title_cell": "Table of Contents",
   "title_sidebar": "Contents",
   "toc_cell": false,
   "toc_position": {},
   "toc_section_display": true,
   "toc_window_display": false
  }
 },
 "nbformat": 4,
 "nbformat_minor": 2
}
