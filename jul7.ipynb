{
 "cells": [
  {
   "cell_type": "code",
   "execution_count": 40,
   "metadata": {},
   "outputs": [],
   "source": [
    "def merge_sorted(arr1, arr2):\n",
    "    # check head of both\n",
    "    i = 0\n",
    "    j = 0\n",
    "    result = []\n",
    "    while i < len(arr1) and j < len(arr2):\n",
    "        if arr1[i] < arr2[j]:\n",
    "            result.append(arr1[i])\n",
    "            i += 1\n",
    "        else:\n",
    "            result.append(arr2[j])\n",
    "            j += 1\n",
    "    if i < len(arr1):\n",
    "        result.extend(arr1[i:])\n",
    "    if j < len(arr2):\n",
    "        result.extend(arr2[j:])\n",
    "    return result"
   ]
  },
  {
   "cell_type": "code",
   "execution_count": 41,
   "metadata": {},
   "outputs": [
    {
     "data": {
      "text/plain": [
       "[1, 1, 1, 1, 2, 2, 3, 3, 3, 4]"
      ]
     },
     "execution_count": 41,
     "metadata": {},
     "output_type": "execute_result"
    }
   ],
   "source": [
    "merge_sorted([1, 1, 1, 2, 3], [1, 2, 3, 3, 4])"
   ]
  },
  {
   "cell_type": "code",
   "execution_count": 48,
   "metadata": {},
   "outputs": [],
   "source": [
    "def my_merge_sort(arr):\n",
    "    if len(arr) <= 1:\n",
    "        return arr\n",
    "    mid = len(arr)//2\n",
    "    left = my_merge_sort(arr[:mid])\n",
    "    right = my_merge_sort(arr[mid:])\n",
    "    result = merge_sorted(left, right)\n",
    "    return result"
   ]
  },
  {
   "cell_type": "code",
   "execution_count": 49,
   "metadata": {},
   "outputs": [
    {
     "data": {
      "text/plain": [
       "[-3, 1, 1, 2, 2, 2, 5, 7, 9]"
      ]
     },
     "execution_count": 49,
     "metadata": {},
     "output_type": "execute_result"
    }
   ],
   "source": [
    "my_merge_sort([1,2,-3,5,9, 1, 2, 7, 2])"
   ]
  },
  {
   "cell_type": "code",
   "execution_count": 37,
   "metadata": {},
   "outputs": [],
   "source": [
    "def merge_sorted_file(if1, if2, of):\n",
    "    # check head of both\\\n",
    "    line1 = if1.readline()\n",
    "    line2 = if2.readline()\n",
    "    while len(line1) > 0 and len(line2) > 0:\n",
    "        if line1 < line2:\n",
    "            of.write(line1)\n",
    "            line1 = if1.readline()\n",
    "        else:\n",
    "            of.write(line2)\n",
    "            line2 = if2.readline()\n",
    "    if len(line1) != 0:\n",
    "        remaining_file = if1\n",
    "        of.write(line1)\n",
    "    else:\n",
    "        remaining_file = if2\n",
    "        of.write(line2)\n",
    "    for line in remaining_file:\n",
    "        of.write(line)"
   ]
  },
  {
   "cell_type": "code",
   "execution_count": 38,
   "metadata": {},
   "outputs": [],
   "source": [
    "with open('file1.txt') as if1, open('file2.txt') as if2, open('file3.txt', 'w+') as of:\n",
    "    merge_sorted_file(if1, if2, of)"
   ]
  },
  {
   "cell_type": "code",
   "execution_count": 39,
   "metadata": {},
   "outputs": [
    {
     "name": "stdout",
     "output_type": "stream",
     "text": [
      "1\r\n",
      "1\r\n",
      "1\r\n",
      "1\r\n",
      "1\r\n",
      "2\r\n",
      "2\r\n",
      "2\r\n",
      "2\r\n",
      "3\r\n",
      "3\r\n",
      "4\r\n",
      "5\r\n",
      "7\r\n",
      "8\r\n",
      "8\r\n",
      "9\r\n",
      "9\r\n",
      "91\r\n",
      "97\r\n"
     ]
    }
   ],
   "source": [
    "!cat file3.txt"
   ]
  },
  {
   "cell_type": "code",
   "execution_count": 20,
   "metadata": {},
   "outputs": [
    {
     "name": "stdout",
     "output_type": "stream",
     "text": [
      "1\r\n",
      "1\r\n",
      "1\r\n",
      "2\r\n",
      "2\r\n",
      "3\r\n",
      "4\r\n",
      "5\r\n",
      "9\r\n",
      "1\r\n",
      "1\r\n",
      "2\r\n",
      "2\r\n",
      "3\r\n",
      "7\r\n",
      "8\r\n",
      "8"
     ]
    }
   ],
   "source": [
    "cat file1.txt file2.txt"
   ]
  },
  {
   "cell_type": "code",
   "execution_count": 32,
   "metadata": {},
   "outputs": [],
   "source": [
    "!rm file3.txt"
   ]
  },
  {
   "cell_type": "code",
   "execution_count": 42,
   "metadata": {},
   "outputs": [],
   "source": [
    "# Question: [(0,\"x\"), (1, 12), (0, 34), (1,90), (1,89), (0,\"s\"),  (1, \"7\")]\n",
    "# Move all zeros to the begining and all 1s to end without using another list in \n",
    "# order of n\n",
    "# Input: [(0,\"x\"), (1, 12), (0, 34), (1,90), (1,89), (0,\"s\"),  (1, \"7\")]\n",
    "# Expected Output: [(0,\"x\"), (0, 34), (0,\"s\"), (1,89), (1,90), (1, 12),  (1, \"7\")]"
   ]
  },
  {
   "cell_type": "code",
   "execution_count": 44,
   "metadata": {},
   "outputs": [],
   "source": [
    "#Counting Sort:\n",
    "# Q: Sort the numbers containing age of people. Billion numbers.\n",
    "\n",
    "# I maintain an array of 200 numbers. 0th index is for people with 0 yrs....\n",
    "# 200th elements contains count of people with 200 age."
   ]
  },
  {
   "cell_type": "code",
   "execution_count": 45,
   "metadata": {},
   "outputs": [],
   "source": [
    "# Stable Sorting: the values that came first should remain in that order."
   ]
  },
  {
   "cell_type": "code",
   "execution_count": null,
   "metadata": {},
   "outputs": [],
   "source": [
    "# Merge Sort\n"
   ]
  }
 ],
 "metadata": {
  "kernelspec": {
   "display_name": "Python 3",
   "language": "python",
   "name": "python3"
  },
  "language_info": {
   "codemirror_mode": {
    "name": "ipython",
    "version": 3
   },
   "file_extension": ".py",
   "mimetype": "text/x-python",
   "name": "python",
   "nbconvert_exporter": "python",
   "pygments_lexer": "ipython3",
   "version": "3.6.8"
  },
  "toc": {
   "base_numbering": 1,
   "nav_menu": {},
   "number_sections": true,
   "sideBar": true,
   "skip_h1_title": false,
   "title_cell": "Table of Contents",
   "title_sidebar": "Contents",
   "toc_cell": false,
   "toc_position": {},
   "toc_section_display": true,
   "toc_window_display": false
  }
 },
 "nbformat": 4,
 "nbformat_minor": 2
}
